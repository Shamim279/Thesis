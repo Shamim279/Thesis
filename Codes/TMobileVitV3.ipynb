{
  "nbformat": 4,
  "nbformat_minor": 0,
  "metadata": {
    "colab": {
      "provenance": [],
      "machine_shape": "hm",
      "gpuType": "T4"
    },
    "kernelspec": {
      "name": "python3",
      "display_name": "Python 3"
    },
    "language_info": {
      "name": "python"
    },
    "accelerator": "GPU"
  },
  "cells": [
    {
      "cell_type": "code",
      "execution_count": 1,
      "metadata": {
        "colab": {
          "base_uri": "https://localhost:8080/"
        },
        "id": "2v8y6-tL8KKZ",
        "outputId": "34ec360f-fcc6-4998-c87a-8d12129d1b7e"
      },
      "outputs": [
        {
          "output_type": "stream",
          "name": "stdout",
          "text": [
            "Mounted at /content/drive\n"
          ]
        }
      ],
      "source": [
        "from google.colab import drive\n",
        "drive.mount('/content/drive')"
      ]
    },
    {
      "cell_type": "code",
      "source": [
        "!nvidia-smi\n"
      ],
      "metadata": {
        "colab": {
          "base_uri": "https://localhost:8080/"
        },
        "id": "6tWqhTZf8T44",
        "outputId": "3813e698-01d1-43c6-d19c-502644fb6d06"
      },
      "execution_count": 2,
      "outputs": [
        {
          "output_type": "stream",
          "name": "stdout",
          "text": [
            "Tue Jul 29 11:35:24 2025       \n",
            "+-----------------------------------------------------------------------------------------+\n",
            "| NVIDIA-SMI 550.54.15              Driver Version: 550.54.15      CUDA Version: 12.4     |\n",
            "|-----------------------------------------+------------------------+----------------------+\n",
            "| GPU  Name                 Persistence-M | Bus-Id          Disp.A | Volatile Uncorr. ECC |\n",
            "| Fan  Temp   Perf          Pwr:Usage/Cap |           Memory-Usage | GPU-Util  Compute M. |\n",
            "|                                         |                        |               MIG M. |\n",
            "|=========================================+========================+======================|\n",
            "|   0  Tesla T4                       Off |   00000000:00:04.0 Off |                    0 |\n",
            "| N/A   35C    P8             10W /   70W |       0MiB /  15360MiB |      0%      Default |\n",
            "|                                         |                        |                  N/A |\n",
            "+-----------------------------------------+------------------------+----------------------+\n",
            "                                                                                         \n",
            "+-----------------------------------------------------------------------------------------+\n",
            "| Processes:                                                                              |\n",
            "|  GPU   GI   CI        PID   Type   Process name                              GPU Memory |\n",
            "|        ID   ID                                                               Usage      |\n",
            "|=========================================================================================|\n",
            "|  No running processes found                                                             |\n",
            "+-----------------------------------------------------------------------------------------+\n"
          ]
        }
      ]
    },
    {
      "cell_type": "code",
      "source": [
        "import os\n",
        "\n",
        "correct_path = '/content/drive/MyDrive/Medical_Data/archive/chest_xray/chest_xray_split'\n",
        "print(os.listdir(correct_path))"
      ],
      "metadata": {
        "colab": {
          "base_uri": "https://localhost:8080/"
        },
        "id": "9eW-ercx8Vs0",
        "outputId": "7125387d-b600-4f24-8471-187f83c11c90"
      },
      "execution_count": 3,
      "outputs": [
        {
          "output_type": "stream",
          "name": "stdout",
          "text": [
            "['train', 'val', 'test']\n"
          ]
        }
      ]
    },
    {
      "cell_type": "code",
      "source": [
        "print(\"Train folders:\", os.listdir(correct_path + '/train'))\n",
        "print(\"Val folders:\", os.listdir(correct_path + '/val'))\n",
        "print(\"Test folders:\", os.listdir(correct_path + '/test'))"
      ],
      "metadata": {
        "colab": {
          "base_uri": "https://localhost:8080/"
        },
        "id": "0IfeRrSc8YBe",
        "outputId": "17a56fe5-e25a-4d4d-c4bb-ddbe61827e9e"
      },
      "execution_count": 4,
      "outputs": [
        {
          "output_type": "stream",
          "name": "stdout",
          "text": [
            "Train folders: ['PNEUMONIA', 'NORMAL']\n",
            "Val folders: ['PNEUMONIA', 'NORMAL']\n",
            "Test folders: ['PNEUMONIA', 'NORMAL']\n"
          ]
        }
      ]
    },
    {
      "cell_type": "code",
      "source": [
        "import os\n",
        "\n",
        "base_path = '/content/drive/MyDrive/Medical_Data/archive/chest_xray/chest_xray_split'\n",
        "\n",
        "splits = ['train', 'val', 'test']\n",
        "classes = ['PNEUMONIA', 'NORMAL']\n",
        "\n",
        "for split in splits:\n",
        "    for cls in classes:\n",
        "        folder = os.path.join(base_path, split, cls)\n",
        "        count = len([f for f in os.listdir(folder) if f.lower().endswith(('.jpg', '.jpeg', '.png'))])\n",
        "        print(f\"{split.capitalize()} - {cls}: {count} images\")\n"
      ],
      "metadata": {
        "colab": {
          "base_uri": "https://localhost:8080/"
        },
        "id": "pjco1Svk8ag6",
        "outputId": "8d420349-a196-43d5-fc0e-f9f27074d0bd"
      },
      "execution_count": 5,
      "outputs": [
        {
          "output_type": "stream",
          "name": "stdout",
          "text": [
            "Train - PNEUMONIA: 3818 images\n",
            "Train - NORMAL: 1403 images\n",
            "Val - PNEUMONIA: 1135 images\n",
            "Val - NORMAL: 418 images\n",
            "Test - PNEUMONIA: 1141 images\n",
            "Test - NORMAL: 415 images\n"
          ]
        }
      ]
    },
    {
      "cell_type": "code",
      "source": [
        "import torch\n",
        "print(\"✅ PyTorch version:\", torch.__version__)\n"
      ],
      "metadata": {
        "colab": {
          "base_uri": "https://localhost:8080/"
        },
        "id": "zrrSD62HtPrO",
        "outputId": "551941ff-11c8-4f89-f79e-4a7eb6188cad"
      },
      "execution_count": 6,
      "outputs": [
        {
          "output_type": "stream",
          "name": "stdout",
          "text": [
            "✅ PyTorch version: 2.6.0+cu124\n"
          ]
        }
      ]
    },
    {
      "cell_type": "code",
      "source": [
        "print(\"✅ CUDA Available:\", torch.cuda.is_available())\n",
        "print(\"🖥️  GPU Name:\", torch.cuda.get_device_name(0) if torch.cuda.is_available() else \"CPU only\")\n"
      ],
      "metadata": {
        "colab": {
          "base_uri": "https://localhost:8080/"
        },
        "id": "R0HcaegQtY6O",
        "outputId": "f6f7cedb-7fa9-45e1-e593-c8d486effd65"
      },
      "execution_count": 7,
      "outputs": [
        {
          "output_type": "stream",
          "name": "stdout",
          "text": [
            "✅ CUDA Available: True\n",
            "🖥️  GPU Name: Tesla T4\n"
          ]
        }
      ]
    },
    {
      "cell_type": "code",
      "source": [
        "x = torch.tensor([1.0, 2.0, 3.0], requires_grad=True)\n",
        "y = x * 2\n",
        "z = y.sum()\n",
        "z.backward()\n",
        "\n",
        "print(\"🎯 x:\", x)\n",
        "print(\"🎯 Gradient of x:\", x.grad)\n"
      ],
      "metadata": {
        "colab": {
          "base_uri": "https://localhost:8080/"
        },
        "id": "HMZb4RGdtd3y",
        "outputId": "d8234a08-d179-44e8-c407-f5db6e207524"
      },
      "execution_count": 8,
      "outputs": [
        {
          "output_type": "stream",
          "name": "stdout",
          "text": [
            "🎯 x: tensor([1., 2., 3.], requires_grad=True)\n",
            "🎯 Gradient of x: tensor([2., 2., 2.])\n"
          ]
        }
      ]
    },
    {
      "cell_type": "code",
      "source": [
        "!pip install numpy --upgrade --quiet\n"
      ],
      "metadata": {
        "colab": {
          "base_uri": "https://localhost:8080/"
        },
        "id": "Vfuoxnjk54kn",
        "outputId": "34f888ae-f452-4824-e3a1-7644ad1684ba"
      },
      "execution_count": null,
      "outputs": [
        {
          "output_type": "stream",
          "name": "stdout",
          "text": [
            "\u001b[31mERROR: pip's dependency resolver does not currently take into account all the packages that are installed. This behaviour is the source of the following dependency conflicts.\n",
            "tensorflow 2.18.0 requires numpy<2.1.0,>=1.26.0, but you have numpy 2.3.2 which is incompatible.\n",
            "opencv-contrib-python 4.12.0.88 requires numpy<2.3.0,>=2; python_version >= \"3.9\", but you have numpy 2.3.2 which is incompatible.\n",
            "numba 0.60.0 requires numpy<2.1,>=1.22, but you have numpy 2.3.2 which is incompatible.\n",
            "opencv-python 4.12.0.88 requires numpy<2.3.0,>=2; python_version >= \"3.9\", but you have numpy 2.3.2 which is incompatible.\n",
            "cupy-cuda12x 13.3.0 requires numpy<2.3,>=1.22, but you have numpy 2.3.2 which is incompatible.\n",
            "raft-dask-cu12 25.6.0 requires nvidia-nccl-cu12>=2.19, but you have nvidia-nccl-cu12 2.18.1 which is incompatible.\n",
            "opencv-python-headless 4.12.0.88 requires numpy<2.3.0,>=2; python_version >= \"3.9\", but you have numpy 2.3.2 which is incompatible.\u001b[0m\u001b[31m\n",
            "\u001b[0m"
          ]
        }
      ]
    },
    {
      "cell_type": "code",
      "source": [
        "!pip uninstall -y numpy"
      ],
      "metadata": {
        "colab": {
          "base_uri": "https://localhost:8080/"
        },
        "id": "TFKHk5-t6JX1",
        "outputId": "5d1ba952-e597-46e9-dd1e-7619ac1de13c"
      },
      "execution_count": 55,
      "outputs": [
        {
          "output_type": "stream",
          "name": "stdout",
          "text": [
            "Found existing installation: numpy 1.26.4\n",
            "Uninstalling numpy-1.26.4:\n",
            "  Successfully uninstalled numpy-1.26.4\n"
          ]
        }
      ]
    },
    {
      "cell_type": "code",
      "source": [
        "!pip install numpy==1.26.4"
      ],
      "metadata": {
        "colab": {
          "base_uri": "https://localhost:8080/",
          "height": 324
        },
        "id": "LFh-qsPs6LK5",
        "outputId": "1523712a-2ae8-461d-f6f9-73275603a3dc"
      },
      "execution_count": 57,
      "outputs": [
        {
          "output_type": "stream",
          "name": "stdout",
          "text": [
            "Collecting numpy==1.26.4\n",
            "  Using cached numpy-1.26.4-cp311-cp311-manylinux_2_17_x86_64.manylinux2014_x86_64.whl.metadata (61 kB)\n",
            "Using cached numpy-1.26.4-cp311-cp311-manylinux_2_17_x86_64.manylinux2014_x86_64.whl (18.3 MB)\n",
            "Installing collected packages: numpy\n",
            "\u001b[31mERROR: pip's dependency resolver does not currently take into account all the packages that are installed. This behaviour is the source of the following dependency conflicts.\n",
            "opencv-contrib-python 4.12.0.88 requires numpy<2.3.0,>=2; python_version >= \"3.9\", but you have numpy 1.26.4 which is incompatible.\n",
            "thinc 8.3.6 requires numpy<3.0.0,>=2.0.0, but you have numpy 1.26.4 which is incompatible.\n",
            "opencv-python 4.12.0.88 requires numpy<2.3.0,>=2; python_version >= \"3.9\", but you have numpy 1.26.4 which is incompatible.\n",
            "raft-dask-cu12 25.6.0 requires nvidia-nccl-cu12>=2.19, but you have nvidia-nccl-cu12 2.18.1 which is incompatible.\n",
            "opencv-python-headless 4.12.0.88 requires numpy<2.3.0,>=2; python_version >= \"3.9\", but you have numpy 1.26.4 which is incompatible.\u001b[0m\u001b[31m\n",
            "\u001b[0mSuccessfully installed numpy-1.26.4\n"
          ]
        },
        {
          "output_type": "display_data",
          "data": {
            "application/vnd.colab-display-data+json": {
              "pip_warning": {
                "packages": [
                  "numpy"
                ]
              },
              "id": "c1effb06b113468eb9d51f5cd52013b5"
            }
          },
          "metadata": {}
        }
      ]
    },
    {
      "cell_type": "code",
      "source": [
        "import numpy as np\n",
        "print(\"✅ NumPy version:\", np.__version__)\n"
      ],
      "metadata": {
        "colab": {
          "base_uri": "https://localhost:8080/"
        },
        "id": "_mFA1Jhq6VeD",
        "outputId": "a6eb1861-2f69-480a-adb7-41a2928a0fdb"
      },
      "execution_count": 12,
      "outputs": [
        {
          "output_type": "stream",
          "name": "stdout",
          "text": [
            "✅ NumPy version: 2.0.2\n"
          ]
        }
      ]
    },
    {
      "cell_type": "code",
      "source": [
        "from tqdm import tqdm\n"
      ],
      "metadata": {
        "id": "Q2pWizbA7JNo"
      },
      "execution_count": null,
      "outputs": []
    },
    {
      "cell_type": "code",
      "source": [
        "# ✅ MobileViTv3-Small Training with Fixed Fusion, Resume, Cosine LR, Accuracy Logging\n",
        "import os, json, torch\n",
        "import numpy as np\n",
        "from tqdm import tqdm\n",
        "from torch import nn\n",
        "from torchvision import datasets, transforms\n",
        "from torch.utils.data import DataLoader\n",
        "from sklearn.metrics import accuracy_score, precision_score, recall_score, f1_score\n",
        "from torch.optim.lr_scheduler import CosineAnnealingLR\n",
        "import torch.nn.functional as F\n",
        "\n",
        "# ---------------- MobileViTv3-Small Model ---------------- #\n",
        "class ConvNormAct(nn.Sequential):\n",
        "    def __init__(self, in_chs, out_chs, kernel_size, stride=1, groups=1, act_layer=nn.SiLU):\n",
        "        padding = kernel_size // 2\n",
        "        super().__init__(\n",
        "            nn.Conv2d(in_chs, out_chs, kernel_size, stride, padding, groups=groups, bias=False),\n",
        "            nn.BatchNorm2d(out_chs),\n",
        "            act_layer()\n",
        "        )\n",
        "\n",
        "class InvertedResidual(nn.Module):\n",
        "    def __init__(self, in_chs, out_chs, stride, expand_ratio):\n",
        "        super().__init__()\n",
        "        hidden_dim = int(round(in_chs * expand_ratio))\n",
        "        self.use_res_connect = stride == 1 and in_chs == out_chs\n",
        "        self.conv = nn.Sequential(\n",
        "            ConvNormAct(in_chs, hidden_dim, kernel_size=1),\n",
        "            ConvNormAct(hidden_dim, hidden_dim, kernel_size=3, stride=stride, groups=hidden_dim),\n",
        "            nn.Conv2d(hidden_dim, out_chs, 1, 1, 0, bias=False),\n",
        "            nn.BatchNorm2d(out_chs),\n",
        "        )\n",
        "\n",
        "    def forward(self, x):\n",
        "        return x + self.conv(x) if self.use_res_connect else self.conv(x)\n",
        "\n",
        "class TransformerBlock(nn.Module):\n",
        "    def __init__(self, dim, num_heads=4, mlp_ratio=2.0, dropout=0.1):\n",
        "        super().__init__()\n",
        "        self.norm1 = nn.LayerNorm(dim)\n",
        "        self.attn = nn.MultiheadAttention(dim, num_heads, dropout=dropout, batch_first=True)\n",
        "        self.norm2 = nn.LayerNorm(dim)\n",
        "        self.mlp = nn.Sequential(\n",
        "            nn.Linear(dim, int(dim * mlp_ratio)), nn.GELU(), nn.Dropout(dropout),\n",
        "            nn.Linear(int(dim * mlp_ratio), dim), nn.Dropout(dropout)\n",
        "        )\n",
        "\n",
        "    def forward(self, x):\n",
        "        B, C, H, W = x.shape\n",
        "        x = x.permute(0, 2, 3, 1).reshape(B, H * W, C)\n",
        "        x = x + self.attn(self.norm1(x), self.norm1(x), self.norm1(x))[0]\n",
        "        x = x + self.mlp(self.norm2(x))\n",
        "        return x.reshape(B, H, W, C).permute(0, 3, 1, 2)\n",
        "\n",
        "class MobileViTBlock(nn.Module):\n",
        "    def __init__(self, in_chs, transformer_dim, depth, patch_size=2):\n",
        "        super().__init__()\n",
        "        self.patch_size = patch_size\n",
        "        self.local_rep = nn.Sequential(\n",
        "            ConvNormAct(in_chs, in_chs, 3),\n",
        "            nn.Conv2d(in_chs, transformer_dim, kernel_size=1)\n",
        "        )\n",
        "        self.transformer = nn.Sequential(\n",
        "            *[TransformerBlock(transformer_dim) for _ in range(depth)]\n",
        "        )\n",
        "        # ✅ Corrected: input is in_chs + transformer_dim after concatenation\n",
        "        self.fusion = ConvNormAct(in_chs + transformer_dim, in_chs, 3)\n",
        "\n",
        "    def forward(self, x):\n",
        "        res = x\n",
        "        x = self.local_rep(x)\n",
        "        B, C, H, W = x.shape\n",
        "        ph, pw = self.patch_size, self.patch_size\n",
        "        x = F.unfold(x, kernel_size=(ph, pw), stride=(ph, pw)).transpose(1, 2)\n",
        "        N = x.size(1)\n",
        "        x = x.view(B, N, C, ph, pw).mean(dim=[3,4])\n",
        "        x = x.view(B, int(H/ph), int(W/pw), C).permute(0, 3, 1, 2)\n",
        "        x = self.transformer(x)\n",
        "        x = F.interpolate(x, size=res.shape[2:], mode='bilinear', align_corners=False)\n",
        "        x = self.fusion(torch.cat((res, x), dim=1))\n",
        "        return x\n",
        "\n",
        "\n",
        "class MobileViTv3Small(nn.Module):\n",
        "    def __init__(self, num_classes=2):\n",
        "        super().__init__()\n",
        "        self.stem = ConvNormAct(3, 16, 3, stride=2)\n",
        "        self.stage1 = InvertedResidual(16, 32, stride=1, expand_ratio=2)\n",
        "        self.stage2 = InvertedResidual(32, 48, stride=2, expand_ratio=2)\n",
        "        self.stage3 = InvertedResidual(48, 64, stride=2, expand_ratio=2)\n",
        "        self.mv2_block1 = MobileViTBlock(64, transformer_dim=96, depth=2)\n",
        "        self.mv2_block2 = MobileViTBlock(64, transformer_dim=128, depth=2)\n",
        "        self.head = nn.Sequential(\n",
        "            nn.AdaptiveAvgPool2d(1),\n",
        "            nn.Flatten(),\n",
        "            nn.Linear(64, num_classes)\n",
        "        )\n",
        "\n",
        "    def forward(self, x):\n",
        "        x = self.stem(x)\n",
        "        x = self.stage1(x)\n",
        "        x = self.stage2(x)\n",
        "        x = self.stage3(x)\n",
        "        x = self.mv2_block1(x)\n",
        "        x = self.mv2_block2(x)\n",
        "        return self.head(x)\n",
        "\n",
        "# ---------------- Step 1: Config ---------------- #\n",
        "base_path = '/content/drive/MyDrive/Medical_Data/archive/chest_xray/chest_xray_split'\n",
        "history_path = '/content/drive/MyDrive/MobileViT_v3_history.json'\n",
        "model_path = '/content/drive/MyDrive/MobileViT_v3_final.pth'\n",
        "\n",
        "image_size = 256\n",
        "batch_size = 16\n",
        "total_epochs = 15\n",
        "lr = 1e-3\n",
        "weight_decay = 0.01\n",
        "device = torch.device(\"cuda\" if torch.cuda.is_available() else \"cpu\")\n",
        "print(\"✅ Using device:\", device)\n",
        "\n",
        "# ---------------- Step 2: Transforms & Dataset ---------------- #\n",
        "mean = (0.5, 0.5, 0.5)\n",
        "std = (0.5, 0.5, 0.5)\n",
        "\n",
        "train_transform = transforms.Compose([\n",
        "    transforms.Resize((image_size, image_size)),\n",
        "    transforms.RandomHorizontalFlip(),\n",
        "    transforms.RandomRotation(10),\n",
        "    transforms.ColorJitter(brightness=0.1, contrast=0.1),\n",
        "    transforms.ToTensor(),\n",
        "    transforms.Normalize(mean, std)\n",
        "])\n",
        "\n",
        "val_transform = transforms.Compose([\n",
        "    transforms.Resize((image_size, image_size)),\n",
        "    transforms.ToTensor(),\n",
        "    transforms.Normalize(mean, std)\n",
        "])\n",
        "\n",
        "train_dataset = datasets.ImageFolder(os.path.join(base_path, 'train'), transform=train_transform)\n",
        "val_dataset   = datasets.ImageFolder(os.path.join(base_path, 'val'), transform=val_transform)\n",
        "train_loader  = DataLoader(train_dataset, batch_size=batch_size, shuffle=True)\n",
        "val_loader    = DataLoader(val_dataset, batch_size=batch_size, shuffle=False)\n",
        "class_names   = train_dataset.classes\n",
        "num_classes   = len(class_names)\n",
        "print(\"🧾 Classes:\", class_names)\n",
        "\n",
        "# ---------------- Step 3: Model, Optimizer, Scheduler ---------------- #\n",
        "model = MobileViTv3Small(num_classes=num_classes).to(device)\n",
        "optimizer = torch.optim.AdamW(model.parameters(), lr=lr, weight_decay=weight_decay)\n",
        "scheduler = CosineAnnealingLR(optimizer, T_max=total_epochs)\n",
        "loss_fn = nn.CrossEntropyLoss()\n",
        "\n",
        "# ---------------- Step 4: Resume Support ---------------- #\n",
        "start_epoch = 0\n",
        "history = {\n",
        "    \"train_loss\": [], \"train_accuracy\": [], \"val_accuracy\": [],\n",
        "    \"val_precision\": [], \"val_recall\": [], \"val_f1\": []\n",
        "}\n",
        "if os.path.exists(model_path):\n",
        "    print(\"🔁 Resuming from checkpoint...\")\n",
        "    model.load_state_dict(torch.load(model_path, map_location=device))\n",
        "    if os.path.exists(history_path):\n",
        "        with open(history_path, 'r') as f:\n",
        "            history = json.load(f)\n",
        "            start_epoch = len(history[\"train_loss\"])\n",
        "    print(f\"🔁 Resumed from epoch {start_epoch}/{total_epochs}\")\n",
        "\n",
        "# ---------------- Step 5: Evaluation Function ---------------- #\n",
        "def evaluate(model, loader):\n",
        "    model.eval()\n",
        "    all_preds, all_labels = [], []\n",
        "    with torch.no_grad():\n",
        "        for images, labels in loader:\n",
        "            images, labels = images.to(device), labels.to(device)\n",
        "            outputs = model(images)\n",
        "            preds = torch.argmax(outputs, dim=1)\n",
        "            all_preds.extend(preds.cpu().numpy())\n",
        "            all_labels.extend(labels.cpu().numpy())\n",
        "    acc  = accuracy_score(all_labels, all_preds)\n",
        "    prec = precision_score(all_labels, all_preds)\n",
        "    rec  = recall_score(all_labels, all_preds)\n",
        "    f1   = f1_score(all_labels, all_preds)\n",
        "    return acc, prec, rec, f1\n",
        "\n",
        "# ---------------- Step 6: Training Loop ---------------- #\n",
        "for epoch in range(start_epoch, total_epochs):\n",
        "    model.train()\n",
        "    running_loss = 0.0\n",
        "    for images, labels in tqdm(train_loader, desc=f\"Epoch {epoch+1}/{total_epochs}\"):\n",
        "        images, labels = images.to(device), labels.to(device)\n",
        "        outputs = model(images)\n",
        "        loss = loss_fn(outputs, labels)\n",
        "        optimizer.zero_grad()\n",
        "        loss.backward()\n",
        "        optimizer.step()\n",
        "        running_loss += loss.item()\n",
        "\n",
        "    scheduler.step()\n",
        "    avg_loss = running_loss / len(train_loader)\n",
        "\n",
        "    # Eval\n",
        "    train_acc = evaluate(model, train_loader)[0]\n",
        "    val_acc, val_prec, val_rec, val_f1 = evaluate(model, val_loader)\n",
        "\n",
        "    # History\n",
        "    history[\"train_loss\"].append(avg_loss)\n",
        "    history[\"train_accuracy\"].append(train_acc)\n",
        "    history[\"val_accuracy\"].append(val_acc)\n",
        "    history[\"val_precision\"].append(val_prec)\n",
        "    history[\"val_recall\"].append(val_rec)\n",
        "    history[\"val_f1\"].append(val_f1)\n",
        "\n",
        "    with open(history_path, 'w') as f:\n",
        "        json.dump(history, f)\n",
        "    torch.save(model.state_dict(), model_path)\n",
        "\n",
        "    print(f\"\\n✅ Epoch {epoch+1} Complete:\")\n",
        "    print(f\"   🔻 Loss         : {avg_loss:.4f}\")\n",
        "    print(f\"   🎯 Train Acc    : {train_acc:.4f}\")\n",
        "    print(f\"   🎯 Val Accuracy : {val_acc:.4f}\")\n",
        "    print(f\"   🎯 Val Precision: {val_prec:.4f}\")\n",
        "    print(f\"   🔁 Val Recall   : {val_rec:.4f}\")\n",
        "    print(f\"   📈 Val F1 Score : {val_f1:.4f}\")\n",
        "\n",
        "# ---------------- Step 7: Done ---------------- #\n",
        "print(\"✅ Training complete. Model + history saved to Drive.\")\n"
      ],
      "metadata": {
        "colab": {
          "base_uri": "https://localhost:8080/"
        },
        "id": "b1Zu52wRu1jl",
        "outputId": "762a7796-7ca4-4471-e269-1f2a089eaad5"
      },
      "execution_count": 13,
      "outputs": [
        {
          "output_type": "stream",
          "name": "stdout",
          "text": [
            "✅ Using device: cuda\n",
            "🧾 Classes: ['NORMAL', 'PNEUMONIA']\n"
          ]
        },
        {
          "output_type": "stream",
          "name": "stderr",
          "text": [
            "Epoch 1/15: 100%|██████████| 327/327 [48:00<00:00,  8.81s/it]\n"
          ]
        },
        {
          "output_type": "stream",
          "name": "stdout",
          "text": [
            "\n",
            "✅ Epoch 1 Complete:\n",
            "   🔻 Loss         : 0.3261\n",
            "   🎯 Train Acc    : 0.9071\n",
            "   🎯 Val Accuracy : 0.9118\n",
            "   🎯 Val Precision: 0.9317\n",
            "   🔁 Val Recall   : 0.9489\n",
            "   📈 Val F1 Score : 0.9402\n"
          ]
        },
        {
          "output_type": "stream",
          "name": "stderr",
          "text": [
            "Epoch 2/15: 100%|██████████| 327/327 [00:49<00:00,  6.59it/s]\n"
          ]
        },
        {
          "output_type": "stream",
          "name": "stdout",
          "text": [
            "\n",
            "✅ Epoch 2 Complete:\n",
            "   🔻 Loss         : 0.2481\n",
            "   🎯 Train Acc    : 0.8246\n",
            "   🎯 Val Accuracy : 0.9015\n",
            "   🎯 Val Precision: 0.9795\n",
            "   🔁 Val Recall   : 0.8837\n",
            "   📈 Val F1 Score : 0.9291\n"
          ]
        },
        {
          "output_type": "stream",
          "name": "stderr",
          "text": [
            "Epoch 3/15: 100%|██████████| 327/327 [00:50<00:00,  6.48it/s]\n"
          ]
        },
        {
          "output_type": "stream",
          "name": "stdout",
          "text": [
            "\n",
            "✅ Epoch 3 Complete:\n",
            "   🔻 Loss         : 0.2225\n",
            "   🎯 Train Acc    : 0.8809\n",
            "   🎯 Val Accuracy : 0.9041\n",
            "   🎯 Val Precision: 0.9704\n",
            "   🔁 Val Recall   : 0.8960\n",
            "   📈 Val F1 Score : 0.9317\n"
          ]
        },
        {
          "output_type": "stream",
          "name": "stderr",
          "text": [
            "Epoch 4/15: 100%|██████████| 327/327 [00:50<00:00,  6.49it/s]\n"
          ]
        },
        {
          "output_type": "stream",
          "name": "stdout",
          "text": [
            "\n",
            "✅ Epoch 4 Complete:\n",
            "   🔻 Loss         : 0.3892\n",
            "   🎯 Train Acc    : 0.5078\n",
            "   🎯 Val Accuracy : 0.5222\n",
            "   🎯 Val Precision: 0.9226\n",
            "   🔁 Val Recall   : 0.3780\n",
            "   📈 Val F1 Score : 0.5363\n"
          ]
        },
        {
          "output_type": "stream",
          "name": "stderr",
          "text": [
            "Epoch 5/15: 100%|██████████| 327/327 [00:49<00:00,  6.62it/s]\n"
          ]
        },
        {
          "output_type": "stream",
          "name": "stdout",
          "text": [
            "\n",
            "✅ Epoch 5 Complete:\n",
            "   🔻 Loss         : 0.3919\n",
            "   🎯 Train Acc    : 0.8516\n",
            "   🎯 Val Accuracy : 0.8667\n",
            "   🎯 Val Precision: 0.8899\n",
            "   🔁 Val Recall   : 0.9330\n",
            "   📈 Val F1 Score : 0.9110\n"
          ]
        },
        {
          "output_type": "stream",
          "name": "stderr",
          "text": [
            "Epoch 6/15: 100%|██████████| 327/327 [00:48<00:00,  6.68it/s]\n"
          ]
        },
        {
          "output_type": "stream",
          "name": "stdout",
          "text": [
            "\n",
            "✅ Epoch 6 Complete:\n",
            "   🔻 Loss         : 0.3306\n",
            "   🎯 Train Acc    : 0.8860\n",
            "   🎯 Val Accuracy : 0.8867\n",
            "   🎯 Val Precision: 0.9502\n",
            "   🔁 Val Recall   : 0.8916\n",
            "   📈 Val F1 Score : 0.9200\n"
          ]
        },
        {
          "output_type": "stream",
          "name": "stderr",
          "text": [
            "Epoch 7/15: 100%|██████████| 327/327 [00:49<00:00,  6.62it/s]\n"
          ]
        },
        {
          "output_type": "stream",
          "name": "stdout",
          "text": [
            "\n",
            "✅ Epoch 7 Complete:\n",
            "   🔻 Loss         : 0.2938\n",
            "   🎯 Train Acc    : 0.8699\n",
            "   🎯 Val Accuracy : 0.8667\n",
            "   🎯 Val Precision: 0.9706\n",
            "   🔁 Val Recall   : 0.8432\n",
            "   📈 Val F1 Score : 0.9024\n"
          ]
        },
        {
          "output_type": "stream",
          "name": "stderr",
          "text": [
            "Epoch 8/15: 100%|██████████| 327/327 [00:48<00:00,  6.71it/s]\n"
          ]
        },
        {
          "output_type": "stream",
          "name": "stdout",
          "text": [
            "\n",
            "✅ Epoch 8 Complete:\n",
            "   🔻 Loss         : 0.2757\n",
            "   🎯 Train Acc    : 0.9232\n",
            "   🎯 Val Accuracy : 0.9292\n",
            "   🎯 Val Precision: 0.9392\n",
            "   🔁 Val Recall   : 0.9656\n",
            "   📈 Val F1 Score : 0.9522\n"
          ]
        },
        {
          "output_type": "stream",
          "name": "stderr",
          "text": [
            "Epoch 9/15: 100%|██████████| 327/327 [00:49<00:00,  6.64it/s]\n"
          ]
        },
        {
          "output_type": "stream",
          "name": "stdout",
          "text": [
            "\n",
            "✅ Epoch 9 Complete:\n",
            "   🔻 Loss         : 0.2246\n",
            "   🎯 Train Acc    : 0.8929\n",
            "   🎯 Val Accuracy : 0.9008\n",
            "   🎯 Val Precision: 0.8908\n",
            "   🔁 Val Recall   : 0.9850\n",
            "   📈 Val F1 Score : 0.9356\n"
          ]
        },
        {
          "output_type": "stream",
          "name": "stderr",
          "text": [
            "Epoch 10/15: 100%|██████████| 327/327 [00:50<00:00,  6.50it/s]\n"
          ]
        },
        {
          "output_type": "stream",
          "name": "stdout",
          "text": [
            "\n",
            "✅ Epoch 10 Complete:\n",
            "   🔻 Loss         : 0.2253\n",
            "   🎯 Train Acc    : 0.9194\n",
            "   🎯 Val Accuracy : 0.9214\n",
            "   🎯 Val Precision: 0.9720\n",
            "   🔁 Val Recall   : 0.9189\n",
            "   📈 Val F1 Score : 0.9447\n"
          ]
        },
        {
          "output_type": "stream",
          "name": "stderr",
          "text": [
            "Epoch 11/15: 100%|██████████| 327/327 [00:49<00:00,  6.56it/s]\n"
          ]
        },
        {
          "output_type": "stream",
          "name": "stdout",
          "text": [
            "\n",
            "✅ Epoch 11 Complete:\n",
            "   🔻 Loss         : 0.2055\n",
            "   🎯 Train Acc    : 0.9353\n",
            "   🎯 Val Accuracy : 0.9266\n",
            "   🎯 Val Precision: 0.9645\n",
            "   🔁 Val Recall   : 0.9339\n",
            "   📈 Val F1 Score : 0.9490\n"
          ]
        },
        {
          "output_type": "stream",
          "name": "stderr",
          "text": [
            "Epoch 12/15: 100%|██████████| 327/327 [00:49<00:00,  6.60it/s]\n"
          ]
        },
        {
          "output_type": "stream",
          "name": "stdout",
          "text": [
            "\n",
            "✅ Epoch 12 Complete:\n",
            "   🔻 Loss         : 0.1967\n",
            "   🎯 Train Acc    : 0.9343\n",
            "   🎯 Val Accuracy : 0.9330\n",
            "   🎯 Val Precision: 0.9734\n",
            "   🔁 Val Recall   : 0.9339\n",
            "   📈 Val F1 Score : 0.9532\n"
          ]
        },
        {
          "output_type": "stream",
          "name": "stderr",
          "text": [
            "Epoch 13/15: 100%|██████████| 327/327 [00:49<00:00,  6.59it/s]\n"
          ]
        },
        {
          "output_type": "stream",
          "name": "stdout",
          "text": [
            "\n",
            "✅ Epoch 13 Complete:\n",
            "   🔻 Loss         : 0.1844\n",
            "   🎯 Train Acc    : 0.9397\n",
            "   🎯 Val Accuracy : 0.9330\n",
            "   🎯 Val Precision: 0.9734\n",
            "   🔁 Val Recall   : 0.9339\n",
            "   📈 Val F1 Score : 0.9532\n"
          ]
        },
        {
          "output_type": "stream",
          "name": "stderr",
          "text": [
            "Epoch 14/15: 100%|██████████| 327/327 [00:50<00:00,  6.44it/s]\n"
          ]
        },
        {
          "output_type": "stream",
          "name": "stdout",
          "text": [
            "\n",
            "✅ Epoch 14 Complete:\n",
            "   🔻 Loss         : 0.1841\n",
            "   🎯 Train Acc    : 0.9452\n",
            "   🎯 Val Accuracy : 0.9485\n",
            "   🎯 Val Precision: 0.9575\n",
            "   🔁 Val Recall   : 0.9727\n",
            "   📈 Val F1 Score : 0.9650\n"
          ]
        },
        {
          "output_type": "stream",
          "name": "stderr",
          "text": [
            "Epoch 15/15: 100%|██████████| 327/327 [00:49<00:00,  6.54it/s]\n"
          ]
        },
        {
          "output_type": "stream",
          "name": "stdout",
          "text": [
            "\n",
            "✅ Epoch 15 Complete:\n",
            "   🔻 Loss         : 0.1803\n",
            "   🎯 Train Acc    : 0.9445\n",
            "   🎯 Val Accuracy : 0.9472\n",
            "   🎯 Val Precision: 0.9639\n",
            "   🔁 Val Recall   : 0.9639\n",
            "   📈 Val F1 Score : 0.9639\n",
            "✅ Training complete. Model + history saved to Drive.\n"
          ]
        }
      ]
    },
    {
      "cell_type": "code",
      "source": [
        "import json\n",
        "\n",
        "# ✅ Load training history for MobileViT v3\n",
        "with open('/content/drive/MyDrive/MobileViT_v3_history.json', 'r') as f:\n",
        "    history = json.load(f)\n",
        "\n",
        "# ✅ Extract final epoch's training and validation accuracy\n",
        "final_train_acc = history['train_accuracy'][-1]\n",
        "final_val_acc   = history['val_accuracy'][-1]\n",
        "\n",
        "print(f\"✅ Final Training Accuracy   : {final_train_acc * 100:.2f}%\")\n",
        "print(f\"✅ Final Validation Accuracy : {final_val_acc * 100:.2f}%\")\n"
      ],
      "metadata": {
        "id": "JVwADu6j8jIS",
        "colab": {
          "base_uri": "https://localhost:8080/"
        },
        "outputId": "c41f1ace-62c6-4525-86f8-ad710d46e959"
      },
      "execution_count": 14,
      "outputs": [
        {
          "output_type": "stream",
          "name": "stdout",
          "text": [
            "✅ Final Training Accuracy   : 94.45%\n",
            "✅ Final Validation Accuracy : 94.72%\n"
          ]
        }
      ]
    },
    {
      "cell_type": "code",
      "source": [
        "import matplotlib.pyplot as plt\n",
        "import json\n",
        "\n",
        "# ✅ Load training history for MobileViTv3\n",
        "with open('/content/drive/MyDrive/MobileViT_v3_history.json', 'r') as f:\n",
        "    history = json.load(f)\n",
        "\n",
        "# ✅ Plot Accuracy\n",
        "plt.figure(figsize=(8, 5))\n",
        "plt.plot(history['train_accuracy'], label='Train Accuracy', linewidth=2)\n",
        "plt.plot(history['val_accuracy'], label='Validation Accuracy', linewidth=2)\n",
        "plt.title('MobileViTv3 Accuracy per Epoch', fontsize=14)\n",
        "plt.xlabel('Epoch')\n",
        "plt.ylabel('Accuracy')\n",
        "plt.legend()\n",
        "plt.grid(True)\n",
        "plt.tight_layout()\n",
        "plt.show()\n"
      ],
      "metadata": {
        "colab": {
          "base_uri": "https://localhost:8080/",
          "height": 507
        },
        "id": "mMksM1KITFwJ",
        "outputId": "ce86a498-efcd-4870-d8b3-cdbca00632a8"
      },
      "execution_count": 15,
      "outputs": [
        {
          "output_type": "display_data",
          "data": {
            "text/plain": [
              "<Figure size 800x500 with 1 Axes>"
            ],
            "image/png": "[encoded data removed]"
          },
          "metadata": {}
        }
      ]
    },
    {
      "cell_type": "code",
      "source": [
        "import matplotlib.pyplot as plt\n",
        "import json\n",
        "\n",
        "# ✅ Load training history for MobileViTv3\n",
        "with open('/content/drive/MyDrive/MobileViT_v3_history.json', 'r') as f:\n",
        "    history = json.load(f)\n",
        "\n",
        "# ✅ Plot Loss\n",
        "plt.figure(figsize=(8, 5))\n",
        "plt.plot(history['train_loss'], label='Train Loss', linewidth=2)\n",
        "plt.title('MobileViTv3 Loss per Epoch', fontsize=14)\n",
        "plt.xlabel('Epoch')\n",
        "plt.ylabel('Loss')\n",
        "plt.legend()\n",
        "plt.grid(True)\n",
        "plt.tight_layout()\n",
        "plt.show()\n"
      ],
      "metadata": {
        "colab": {
          "base_uri": "https://localhost:8080/",
          "height": 507
        },
        "id": "2K0WuJ0BTJDM",
        "outputId": "1bcc48d8-62a9-46d1-8cb1-7a9886100086"
      },
      "execution_count": 16,
      "outputs": [
        {
          "output_type": "display_data",
          "data": {
            "text/plain": [
              "<Figure size 800x500 with 1 Axes>"
            ],
            "image/png": "[encoded data removed]"
          },
          "metadata": {}
        }
      ]
    },
    {
      "cell_type": "code",
      "source": [
        "import os\n",
        "import torch\n",
        "from torchvision import datasets, transforms\n",
        "from torch.utils.data import DataLoader\n",
        "from torch import nn\n",
        "from tqdm import tqdm\n",
        "\n",
        "# -------- CONFIG -------- #\n",
        "base_path = '/content/drive/MyDrive/Medical_Data/archive/chest_xray/chest_xray_split'\n",
        "final_model_path = '/content/drive/MyDrive/MobileViT_v3_final.pth'\n",
        "batch_size = 16\n",
        "image_size = 256\n",
        "device = torch.device(\"cuda\" if torch.cuda.is_available() else \"cpu\")\n",
        "print(\"✅ Using device:\", device)\n",
        "\n",
        "# -------- TRANSFORM -------- #\n",
        "mean, std = (0.5, 0.5, 0.5), (0.5, 0.5, 0.5)\n",
        "test_transform = transforms.Compose([\n",
        "    transforms.Resize((image_size, image_size)),\n",
        "    transforms.ToTensor(),\n",
        "    transforms.Normalize(mean, std)\n",
        "])\n",
        "\n",
        "# -------- DATASET -------- #\n",
        "test_dataset = datasets.ImageFolder(os.path.join(base_path, 'test'), transform=test_transform)\n",
        "test_loader = DataLoader(test_dataset, batch_size=batch_size, shuffle=False)\n",
        "class_names = test_dataset.classes\n",
        "print(\"🧾 Classes:\", class_names)\n",
        "\n",
        "# -------- MODEL DEF -------- #\n",
        "# (Insert full MobileViTv3Small model definition here – same as in training script)\n",
        "\n",
        "# -------- LOAD MODEL -------- #\n",
        "model = MobileViTv3Small(num_classes=len(class_names))\n",
        "model.load_state_dict(torch.load(final_model_path, map_location=device))\n",
        "model.to(device)\n",
        "model.eval()\n",
        "\n",
        "# -------- EVALUATE -------- #\n",
        "criterion = nn.CrossEntropyLoss()\n",
        "total_loss = 0.0\n",
        "correct = 0\n",
        "total = 0\n",
        "\n",
        "with torch.no_grad():\n",
        "    for images, labels in tqdm(test_loader, desc=\"🔍 Evaluating\"):\n",
        "        images, labels = images.to(device), labels.to(device)\n",
        "        outputs = model(images)\n",
        "        loss = criterion(outputs, labels)\n",
        "        total_loss += loss.item() * labels.size(0)\n",
        "\n",
        "        _, predicted = torch.max(outputs, 1)\n",
        "        total += labels.size(0)\n",
        "        correct += (predicted == labels).sum().item()\n",
        "\n",
        "avg_test_loss = total_loss / total\n",
        "test_accuracy = correct / total\n",
        "\n",
        "print(f\"✅ Test Accuracy: {test_accuracy * 100:.2f}%\")\n",
        "print(f\"📉 Test Loss: {avg_test_loss:.4f}\")\n"
      ],
      "metadata": {
        "colab": {
          "base_uri": "https://localhost:8080/"
        },
        "id": "k0nwGlXrTUD7",
        "outputId": "5f1d914d-f85e-41fa-ea3c-2b0b470daaf0"
      },
      "execution_count": 17,
      "outputs": [
        {
          "output_type": "stream",
          "name": "stdout",
          "text": [
            "✅ Using device: cuda\n",
            "🧾 Classes: ['NORMAL', 'PNEUMONIA']\n"
          ]
        },
        {
          "output_type": "stream",
          "name": "stderr",
          "text": [
            "🔍 Evaluating: 100%|██████████| 98/98 [14:52<00:00,  9.10s/it]"
          ]
        },
        {
          "output_type": "stream",
          "name": "stdout",
          "text": [
            "✅ Test Accuracy: 95.24%\n",
            "📉 Test Loss: 0.1240\n"
          ]
        },
        {
          "output_type": "stream",
          "name": "stderr",
          "text": [
            "\n"
          ]
        }
      ]
    },
    {
      "cell_type": "code",
      "source": [
        "import numpy as np\n",
        "import matplotlib.pyplot as plt\n",
        "from sklearn.metrics import accuracy_score, precision_score, recall_score, f1_score, confusion_matrix, ConfusionMatrixDisplay\n",
        "import torch\n",
        "from torchvision import datasets, transforms\n",
        "from torch.utils.data import DataLoader\n",
        "\n",
        "# -------- CONFIG -------- #\n",
        "base_path = '/content/drive/MyDrive/Medical_Data/archive/chest_xray/chest_xray_split'\n",
        "batch_size = 64\n",
        "image_size = 256\n",
        "device = torch.device(\"cuda\" if torch.cuda.is_available() else \"cpu\")\n",
        "\n",
        "# -------- Step 1: True labels from generator -------- #\n",
        "mean, std = (0.5, 0.5, 0.5), (0.5, 0.5, 0.5)\n",
        "test_transform = transforms.Compose([\n",
        "    transforms.Resize((image_size, image_size)),\n",
        "    transforms.ToTensor(),\n",
        "    transforms.Normalize(mean, std)\n",
        "])\n",
        "test_dataset = datasets.ImageFolder(os.path.join(base_path, 'test'), transform=test_transform)\n",
        "test_loader = DataLoader(test_dataset, batch_size=batch_size, shuffle=False)\n",
        "y_true = np.array([label for _, label in test_dataset])\n",
        "\n",
        "# -------- Step 2: Model predictions -------- #\n",
        "model = MobileViTv3Small(num_classes=2).to(device)\n",
        "model.load_state_dict(torch.load('/content/drive/MyDrive/MobileViT_v3_final.pth', map_location=device))\n",
        "model.eval()\n",
        "\n",
        "y_pred_probs = []\n",
        "with torch.no_grad():\n",
        "    for images, _ in test_loader:\n",
        "        images = images.to(device)\n",
        "        outputs = model(images)\n",
        "        probs = torch.softmax(outputs, dim=1)[:, 1]  # Probability for class \"PNEUMONIA\"\n",
        "        y_pred_probs.extend(probs.cpu().numpy())\n",
        "y_pred_probs = np.array(y_pred_probs)\n",
        "\n",
        "# -------- Step 3: Apply threshold (e.g. 0.5) -------- #\n",
        "threshold = 0.50\n",
        "y_pred = (y_pred_probs > threshold).astype(int).reshape(-1)\n",
        "\n",
        "# -------- Step 4: Metrics -------- #\n",
        "overall_accuracy  = accuracy_score(y_true, y_pred)\n",
        "overall_precision = precision_score(y_true, y_pred)\n",
        "overall_recall    = recall_score(y_true, y_pred)\n",
        "overall_f1        = f1_score(y_true, y_pred)\n",
        "\n",
        "# -------- Step 5: Print metrics -------- #\n",
        "print(\"📊 Overall Model Performance (MobileViTv3-Small, Threshold = 0.50):\\n\")\n",
        "print(f\"✅ Accuracy :  {overall_accuracy:.4f}\")\n",
        "print(f\"🎯 Precision: {overall_precision:.4f}\")\n",
        "print(f\"🔁 Recall   : {overall_recall:.4f}\")\n",
        "print(f\"📈 F1 Score : {overall_f1:.4f}\")\n",
        "\n",
        "# -------- Step 6: Confusion Matrix -------- #\n",
        "cm = confusion_matrix(y_true, y_pred)\n",
        "labels = test_dataset.classes  # e.g. ['NORMAL', 'PNEUMONIA']\n",
        "\n",
        "# -------- Step 7: Plot Confusion Matrix -------- #\n",
        "disp = ConfusionMatrixDisplay(confusion_matrix=cm, display_labels=labels)\n",
        "disp.plot(cmap=plt.cm.Blues)\n",
        "plt.title(\"MobileViTv3-Small - Confusion Matrix (Threshold = 0.50)\")\n",
        "plt.grid(False)\n",
        "plt.show()\n",
        "\n",
        "# -------- Step 8: TP, TN, FP, FN Breakdown -------- #\n",
        "tn, fp, fn, tp = cm.ravel()\n",
        "\n",
        "print(\"\\n🧮 Confusion Matrix Breakdown:\")\n",
        "print(f\"✅ True Positives (TP): {tp}\")\n",
        "print(f\"✅ True Negatives (TN): {tn}\")\n",
        "print(f\"❌ False Positives (FP): {fp}\")\n",
        "print(f\"❌ False Negatives (FN): {fn}\")\n"
      ],
      "metadata": {
        "colab": {
          "base_uri": "https://localhost:8080/",
          "height": 680
        },
        "id": "uoDGJxdyUt7t",
        "outputId": "cba664d3-5be2-47b0-da46-72e2008833f9"
      },
      "execution_count": 18,
      "outputs": [
        {
          "output_type": "stream",
          "name": "stdout",
          "text": [
            "📊 Overall Model Performance (MobileViTv3-Small, Threshold = 0.50):\n",
            "\n",
            "✅ Accuracy :  0.9524\n",
            "🎯 Precision: 0.9717\n",
            "🔁 Recall   : 0.9632\n",
            "📈 F1 Score : 0.9674\n"
          ]
        },
        {
          "output_type": "display_data",
          "data": {
            "text/plain": [
              "<Figure size 640x480 with 2 Axes>"
            ],
            "image/png": "[encoded data removed]"
          },
          "metadata": {}
        },
        {
          "output_type": "stream",
          "name": "stdout",
          "text": [
            "\n",
            "🧮 Confusion Matrix Breakdown:\n",
            "✅ True Positives (TP): 1099\n",
            "✅ True Negatives (TN): 383\n",
            "❌ False Positives (FP): 32\n",
            "❌ False Negatives (FN): 42\n"
          ]
        }
      ]
    }
  ]
}