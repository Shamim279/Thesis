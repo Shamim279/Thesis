{
  "nbformat": 4,
  "nbformat_minor": 0,
  "metadata": {
    "colab": {
      "provenance": [],
      "machine_shape": "hm",
      "gpuType": "T4"
    },
    "kernelspec": {
      "name": "python3",
      "display_name": "Python 3"
    },
    "language_info": {
      "name": "python"
    },
    "accelerator": "GPU"
  },
  "cells": [
    {
      "cell_type": "markdown",
      "source": [
        "from google.colab import drive\n",
        "drive.mount('/content/drive')"
      ],
      "metadata": {
        "id": "G77Mlo-Te7g9"
      }
    },
    {
      "cell_type": "code",
      "source": [
        "from google.colab import drive\n",
        "drive.mount('/content/drive')"
      ],
      "metadata": {
        "colab": {
          "base_uri": "https://localhost:8080/"
        },
        "id": "IelXEkzQgfp8",
        "outputId": "01572643-064d-4092-8278-89b55463f27f"
      },
      "execution_count": 1,
      "outputs": [
        {
          "output_type": "stream",
          "name": "stdout",
          "text": [
            "Mounted at /content/drive\n"
          ]
        }
      ]
    },
    {
      "cell_type": "code",
      "source": [
        "!nvidia-smi\n"
      ],
      "metadata": {
        "colab": {
          "base_uri": "https://localhost:8080/"
        },
        "id": "h9ijrBSkgi70",
        "outputId": "89d88c9a-b0f0-489c-fe81-25081c41fcfd"
      },
      "execution_count": 2,
      "outputs": [
        {
          "output_type": "stream",
          "name": "stdout",
          "text": [
            "Tue Jul 29 14:08:56 2025       \n",
            "+-----------------------------------------------------------------------------------------+\n",
            "| NVIDIA-SMI 550.54.15              Driver Version: 550.54.15      CUDA Version: 12.4     |\n",
            "|-----------------------------------------+------------------------+----------------------+\n",
            "| GPU  Name                 Persistence-M | Bus-Id          Disp.A | Volatile Uncorr. ECC |\n",
            "| Fan  Temp   Perf          Pwr:Usage/Cap |           Memory-Usage | GPU-Util  Compute M. |\n",
            "|                                         |                        |               MIG M. |\n",
            "|=========================================+========================+======================|\n",
            "|   0  Tesla T4                       Off |   00000000:00:04.0 Off |                    0 |\n",
            "| N/A   44C    P8             11W /   70W |       0MiB /  15360MiB |      0%      Default |\n",
            "|                                         |                        |                  N/A |\n",
            "+-----------------------------------------+------------------------+----------------------+\n",
            "                                                                                         \n",
            "+-----------------------------------------------------------------------------------------+\n",
            "| Processes:                                                                              |\n",
            "|  GPU   GI   CI        PID   Type   Process name                              GPU Memory |\n",
            "|        ID   ID                                                               Usage      |\n",
            "|=========================================================================================|\n",
            "|  No running processes found                                                             |\n",
            "+-----------------------------------------------------------------------------------------+\n"
          ]
        }
      ]
    },
    {
      "cell_type": "code",
      "source": [
        "import os\n",
        "\n",
        "correct_path = '/content/drive/MyDrive/Medical_Data/archive/chest_xray/chest_xray_split'\n",
        "print(os.listdir(correct_path))"
      ],
      "metadata": {
        "colab": {
          "base_uri": "https://localhost:8080/"
        },
        "id": "hofZTeSdgkzS",
        "outputId": "aba8b0b6-6eab-4b33-901a-36f0d05348a0"
      },
      "execution_count": 9,
      "outputs": [
        {
          "output_type": "stream",
          "name": "stdout",
          "text": [
            "['train', 'val', 'test']\n"
          ]
        }
      ]
    },
    {
      "cell_type": "code",
      "source": [
        "print(\"Train folders:\", os.listdir(correct_path + '/train'))\n",
        "print(\"Val folders:\", os.listdir(correct_path + '/val'))\n",
        "print(\"Test folders:\", os.listdir(correct_path + '/test'))"
      ],
      "metadata": {
        "colab": {
          "base_uri": "https://localhost:8080/"
        },
        "id": "c1a7XSQLgnwV",
        "outputId": "622007ed-a8ff-4a15-f09c-d8b6b1a770aa"
      },
      "execution_count": 3,
      "outputs": [
        {
          "output_type": "stream",
          "name": "stdout",
          "text": [
            "Train folders: ['PNEUMONIA', 'NORMAL']\n",
            "Val folders: ['PNEUMONIA', 'NORMAL']\n",
            "Test folders: ['PNEUMONIA', 'NORMAL']\n"
          ]
        }
      ]
    },
    {
      "cell_type": "code",
      "source": [
        "import os\n",
        "\n",
        "base_path = '/content/drive/MyDrive/Medical_Data/archive/chest_xray/chest_xray_split'\n",
        "\n",
        "splits = ['train', 'val', 'test']\n",
        "classes = ['PNEUMONIA', 'NORMAL']\n",
        "\n",
        "for split in splits:\n",
        "    for cls in classes:\n",
        "        folder = os.path.join(base_path, split, cls)\n",
        "        count = len([f for f in os.listdir(folder) if f.lower().endswith(('.jpg', '.jpeg', '.png'))])\n",
        "        print(f\"{split.capitalize()} - {cls}: {count} images\")\n"
      ],
      "metadata": {
        "colab": {
          "base_uri": "https://localhost:8080/"
        },
        "id": "fVahyRadgppr",
        "outputId": "f1affff7-96d2-4d18-e710-1e7b2455ba36"
      },
      "execution_count": 4,
      "outputs": [
        {
          "output_type": "stream",
          "name": "stdout",
          "text": [
            "Train - PNEUMONIA: 3818 images\n",
            "Train - NORMAL: 1403 images\n",
            "Val - PNEUMONIA: 1135 images\n",
            "Val - NORMAL: 418 images\n",
            "Test - PNEUMONIA: 1141 images\n",
            "Test - NORMAL: 415 images\n"
          ]
        }
      ]
    },
    {
      "cell_type": "code",
      "source": [
        "# ✅ FastViT-SA12 Training with Validation Loss Logging\n",
        "import os, json, torch\n",
        "import numpy as np\n",
        "from tqdm import tqdm\n",
        "from torch import nn\n",
        "from torchvision import datasets, transforms\n",
        "from torch.utils.data import DataLoader\n",
        "from sklearn.metrics import accuracy_score, precision_score, recall_score, f1_score\n",
        "from torch.optim.lr_scheduler import CosineAnnealingLR\n",
        "from collections import Counter\n",
        "\n",
        "# ---------------- FastViT-SA12 Architecture ---------------- #\n",
        "class FastViTBlock(nn.Module):\n",
        "    def __init__(self, in_chs, out_chs, stride=1, expansion=2):\n",
        "        super().__init__()\n",
        "        hidden_dim = in_chs * expansion\n",
        "        self.conv = nn.Sequential(\n",
        "            nn.Conv2d(in_chs, hidden_dim, 1, bias=False),\n",
        "            nn.BatchNorm2d(hidden_dim),\n",
        "            nn.SiLU(),\n",
        "            nn.Conv2d(hidden_dim, hidden_dim, 3, stride, 1, groups=hidden_dim, bias=False),\n",
        "            nn.BatchNorm2d(hidden_dim),\n",
        "            nn.SiLU(),\n",
        "            nn.Conv2d(hidden_dim, out_chs, 1, bias=False),\n",
        "            nn.BatchNorm2d(out_chs),\n",
        "        )\n",
        "        self.use_residual = stride == 1 and in_chs == out_chs\n",
        "\n",
        "    def forward(self, x):\n",
        "        out = self.conv(x)\n",
        "        return x + out if self.use_residual else out\n",
        "\n",
        "class FastViTSA12(nn.Module):\n",
        "    def __init__(self, num_classes=2):\n",
        "        super().__init__()\n",
        "        self.stem = nn.Sequential(\n",
        "            nn.Conv2d(3, 16, 3, stride=2, padding=1, bias=False),\n",
        "            nn.BatchNorm2d(16),\n",
        "            nn.SiLU()\n",
        "        )\n",
        "        self.stage1 = FastViTBlock(16, 32, stride=1)\n",
        "        self.stage2 = FastViTBlock(32, 64, stride=2)\n",
        "        self.stage3 = FastViTBlock(64, 128, stride=2)\n",
        "        self.stage4 = FastViTBlock(128, 128, stride=1)\n",
        "        self.global_pool = nn.AdaptiveAvgPool2d(1)\n",
        "        self.classifier = nn.Sequential(\n",
        "            nn.Flatten(),\n",
        "            nn.Linear(128, num_classes)\n",
        "        )\n",
        "\n",
        "    def forward(self, x):\n",
        "        x = self.stem(x)\n",
        "        x = self.stage1(x)\n",
        "        x = self.stage2(x)\n",
        "        x = self.stage3(x)\n",
        "        x = self.stage4(x)\n",
        "        x = self.global_pool(x)\n",
        "        return self.classifier(x)\n",
        "\n",
        "# ---------------- Config ---------------- #\n",
        "base_path = '/content/drive/MyDrive/Medical_Data/archive/chest_xray/chest_xray_split'\n",
        "history_path = '/content/drive/MyDrive/FastViT-SA12_history.json'\n",
        "model_path = '/content/drive/MyDrive/FastViT-SA12_final.pth'\n",
        "\n",
        "image_size = 256\n",
        "batch_size = 32\n",
        "total_epochs = 20\n",
        "lr = 1e-3\n",
        "weight_decay = 0.01\n",
        "device = torch.device(\"cuda\" if torch.cuda.is_available() else \"cpu\")\n",
        "print(\"✅ Using device:\", device)\n",
        "\n",
        "# ---------------- Transforms ---------------- #\n",
        "mean = (0.5, 0.5, 0.5)\n",
        "std = (0.5, 0.5, 0.5)\n",
        "\n",
        "train_transform = transforms.Compose([\n",
        "    transforms.Resize((image_size, image_size)),\n",
        "    transforms.RandomHorizontalFlip(),\n",
        "    transforms.RandomRotation(10),\n",
        "    transforms.ColorJitter(brightness=0.1, contrast=0.1),\n",
        "    transforms.ToTensor(),\n",
        "    transforms.Normalize(mean, std)\n",
        "])\n",
        "\n",
        "val_transform = transforms.Compose([\n",
        "    transforms.Resize((image_size, image_size)),\n",
        "    transforms.ToTensor(),\n",
        "    transforms.Normalize(mean, std)\n",
        "])\n",
        "\n",
        "# ---------------- Dataset ---------------- #\n",
        "train_dataset = datasets.ImageFolder(os.path.join(base_path, 'train'), transform=train_transform)\n",
        "val_dataset   = datasets.ImageFolder(os.path.join(base_path, 'val'), transform=val_transform)\n",
        "train_loader  = DataLoader(train_dataset, batch_size=batch_size, shuffle=True)\n",
        "val_loader    = DataLoader(val_dataset, batch_size=batch_size, shuffle=False)\n",
        "class_names   = train_dataset.classes\n",
        "num_classes   = len(class_names)\n",
        "print(\"🧾 Classes:\", class_names)\n",
        "\n",
        "# ---------------- Class Weights ---------------- #\n",
        "labels_list = [label for _, label in train_dataset.samples]\n",
        "class_counts = Counter(labels_list)\n",
        "total_samples = sum(class_counts.values())\n",
        "class_weights = [total_samples / class_counts[i] for i in range(num_classes)]\n",
        "class_weights_tensor = torch.FloatTensor(class_weights).to(device)\n",
        "\n",
        "# ---------------- Model + Optimizer ---------------- #\n",
        "model = FastViTSA12(num_classes=num_classes).to(device)\n",
        "optimizer = torch.optim.AdamW(model.parameters(), lr=lr, weight_decay=weight_decay)\n",
        "scheduler = CosineAnnealingLR(optimizer, T_max=total_epochs)\n",
        "loss_fn = nn.CrossEntropyLoss(weight=class_weights_tensor)\n",
        "\n",
        "# ---------------- Resume Support ---------------- #\n",
        "start_epoch = 0\n",
        "history = {\n",
        "    \"train_loss\": [], \"val_loss\": [],\n",
        "    \"train_accuracy\": [], \"val_accuracy\": [],\n",
        "    \"val_precision\": [], \"val_recall\": [], \"val_f1\": []\n",
        "}\n",
        "if os.path.exists(model_path):\n",
        "    print(\"🔁 Resuming from checkpoint...\")\n",
        "    model.load_state_dict(torch.load(model_path, map_location=device))\n",
        "    if os.path.exists(history_path):\n",
        "        with open(history_path, 'r') as f:\n",
        "            history = json.load(f)\n",
        "            start_epoch = len(history[\"train_loss\"])\n",
        "    print(f\"🔁 Resumed from epoch {start_epoch}/{total_epochs}\")\n",
        "\n",
        "# ---------------- Evaluation ---------------- #\n",
        "def evaluate(model, loader):\n",
        "    model.eval()\n",
        "    all_preds, all_labels = [], []\n",
        "    with torch.no_grad():\n",
        "        for images, labels in loader:\n",
        "            images, labels = images.to(device), labels.to(device)\n",
        "            outputs = model(images)\n",
        "            preds = torch.argmax(outputs, dim=1)\n",
        "            all_preds.extend(preds.cpu().numpy())\n",
        "            all_labels.extend(labels.cpu().numpy())\n",
        "    acc  = accuracy_score(all_labels, all_preds)\n",
        "    prec = precision_score(all_labels, all_preds)\n",
        "    rec  = recall_score(all_labels, all_preds)\n",
        "    f1   = f1_score(all_labels, all_preds)\n",
        "    return acc, prec, rec, f1\n",
        "\n",
        "# ---------------- Training Loop ---------------- #\n",
        "for epoch in range(start_epoch, total_epochs):\n",
        "    model.train()\n",
        "    running_loss = 0.0\n",
        "    for images, labels in tqdm(train_loader, desc=f\"Epoch {epoch+1}/{total_epochs}\"):\n",
        "        images, labels = images.to(device), labels.to(device)\n",
        "        outputs = model(images)\n",
        "        loss = loss_fn(outputs, labels)\n",
        "        optimizer.zero_grad()\n",
        "        loss.backward()\n",
        "        optimizer.step()\n",
        "        running_loss += loss.item()\n",
        "\n",
        "    scheduler.step()\n",
        "    avg_loss = running_loss / len(train_loader)\n",
        "\n",
        "    # Evaluate train\n",
        "    train_acc = evaluate(model, train_loader)[0]\n",
        "\n",
        "    # Evaluate val\n",
        "    val_acc, val_prec, val_rec, val_f1 = evaluate(model, val_loader)\n",
        "\n",
        "    # Compute val loss\n",
        "    model.eval()\n",
        "    val_running_loss = 0.0\n",
        "    with torch.no_grad():\n",
        "        for images, labels in val_loader:\n",
        "            images, labels = images.to(device), labels.to(device)\n",
        "            outputs = model(images)\n",
        "            loss = loss_fn(outputs, labels)\n",
        "            val_running_loss += loss.item()\n",
        "    avg_val_loss = val_running_loss / len(val_loader)\n",
        "\n",
        "    # Save history\n",
        "    history[\"train_loss\"].append(avg_loss)\n",
        "    history[\"val_loss\"].append(avg_val_loss)\n",
        "    history[\"train_accuracy\"].append(train_acc)\n",
        "    history[\"val_accuracy\"].append(val_acc)\n",
        "    history[\"val_precision\"].append(val_prec)\n",
        "    history[\"val_recall\"].append(val_rec)\n",
        "    history[\"val_f1\"].append(val_f1)\n",
        "\n",
        "    with open(history_path, 'w') as f:\n",
        "        json.dump(history, f)\n",
        "    torch.save(model.state_dict(), model_path)\n",
        "\n",
        "    print(f\"\\n✅ Epoch {epoch+1} Complete:\")\n",
        "    print(f\"   🔻 Train Loss   : {avg_loss:.4f}\")\n",
        "    print(f\"   🔻 Val Loss     : {avg_val_loss:.4f}\")\n",
        "    print(f\"   🎯 Train Acc    : {train_acc:.4f}\")\n",
        "    print(f\"   🎯 Val Accuracy : {val_acc:.4f}\")\n",
        "    print(f\"   🎯 Val Precision: {val_prec:.4f}\")\n",
        "    print(f\"   🔁 Val Recall   : {val_rec:.4f}\")\n",
        "    print(f\"   📈 Val F1 Score : {val_f1:.4f}\")\n",
        "\n",
        "print(\"✅ Training complete. Model + history saved to Drive.\")\n"
      ],
      "metadata": {
        "colab": {
          "base_uri": "https://localhost:8080/"
        },
        "id": "CmGtZYVRgsOP",
        "outputId": "3b519126-491e-405c-fcec-bc197eb7f878"
      },
      "execution_count": 6,
      "outputs": [
        {
          "output_type": "stream",
          "name": "stdout",
          "text": [
            "✅ Using device: cuda\n",
            "🧾 Classes: ['NORMAL', 'PNEUMONIA']\n"
          ]
        },
        {
          "output_type": "stream",
          "name": "stderr",
          "text": [
            "Epoch 1/20: 100%|██████████| 164/164 [19:47<00:00,  7.24s/it]\n"
          ]
        },
        {
          "output_type": "stream",
          "name": "stdout",
          "text": [
            "\n",
            "✅ Epoch 1 Complete:\n",
            "   🔻 Train Loss   : 0.3260\n",
            "   🔻 Val Loss     : 0.1953\n",
            "   🎯 Train Acc    : 0.9222\n",
            "   🎯 Val Accuracy : 0.9343\n",
            "   🎯 Val Precision: 0.9396\n",
            "   🔁 Val Recall   : 0.9727\n",
            "   📈 Val F1 Score : 0.9558\n"
          ]
        },
        {
          "output_type": "stream",
          "name": "stderr",
          "text": [
            "Epoch 2/20: 100%|██████████| 164/164 [00:47<00:00,  3.47it/s]\n"
          ]
        },
        {
          "output_type": "stream",
          "name": "stdout",
          "text": [
            "\n",
            "✅ Epoch 2 Complete:\n",
            "   🔻 Train Loss   : 0.2308\n",
            "   🔻 Val Loss     : 0.4405\n",
            "   🎯 Train Acc    : 0.7903\n",
            "   🎯 Val Accuracy : 0.8300\n",
            "   🎯 Val Precision: 0.9943\n",
            "   🔁 Val Recall   : 0.7718\n",
            "   📈 Val F1 Score : 0.8690\n"
          ]
        },
        {
          "output_type": "stream",
          "name": "stderr",
          "text": [
            "Epoch 3/20: 100%|██████████| 164/164 [00:47<00:00,  3.45it/s]\n"
          ]
        },
        {
          "output_type": "stream",
          "name": "stdout",
          "text": [
            "\n",
            "✅ Epoch 3 Complete:\n",
            "   🔻 Train Loss   : 0.2014\n",
            "   🔻 Val Loss     : 0.1319\n",
            "   🎯 Train Acc    : 0.9420\n",
            "   🎯 Val Accuracy : 0.9543\n",
            "   🎯 Val Precision: 0.9810\n",
            "   🔁 Val Recall   : 0.9559\n",
            "   📈 Val F1 Score : 0.9683\n"
          ]
        },
        {
          "output_type": "stream",
          "name": "stderr",
          "text": [
            "Epoch 4/20: 100%|██████████| 164/164 [00:46<00:00,  3.50it/s]\n"
          ]
        },
        {
          "output_type": "stream",
          "name": "stdout",
          "text": [
            "\n",
            "✅ Epoch 4 Complete:\n",
            "   🔻 Train Loss   : 0.1794\n",
            "   🔻 Val Loss     : 0.1365\n",
            "   🎯 Train Acc    : 0.9481\n",
            "   🎯 Val Accuracy : 0.9453\n",
            "   🎯 Val Precision: 0.9449\n",
            "   🔁 Val Recall   : 0.9824\n",
            "   📈 Val F1 Score : 0.9633\n"
          ]
        },
        {
          "output_type": "stream",
          "name": "stderr",
          "text": [
            "Epoch 5/20: 100%|██████████| 164/164 [00:46<00:00,  3.52it/s]\n"
          ]
        },
        {
          "output_type": "stream",
          "name": "stdout",
          "text": [
            "\n",
            "✅ Epoch 5 Complete:\n",
            "   🔻 Train Loss   : 0.1706\n",
            "   🔻 Val Loss     : 0.1209\n",
            "   🎯 Train Acc    : 0.9529\n",
            "   🎯 Val Accuracy : 0.9569\n",
            "   🎯 Val Precision: 0.9768\n",
            "   🔁 Val Recall   : 0.9639\n",
            "   📈 Val F1 Score : 0.9703\n"
          ]
        },
        {
          "output_type": "stream",
          "name": "stderr",
          "text": [
            "Epoch 6/20: 100%|██████████| 164/164 [00:46<00:00,  3.52it/s]\n"
          ]
        },
        {
          "output_type": "stream",
          "name": "stdout",
          "text": [
            "\n",
            "✅ Epoch 6 Complete:\n",
            "   🔻 Train Loss   : 0.1544\n",
            "   🔻 Val Loss     : 0.1953\n",
            "   🎯 Train Acc    : 0.9173\n",
            "   🎯 Val Accuracy : 0.9279\n",
            "   🎯 Val Precision: 0.9876\n",
            "   🔁 Val Recall   : 0.9128\n",
            "   📈 Val F1 Score : 0.9487\n"
          ]
        },
        {
          "output_type": "stream",
          "name": "stderr",
          "text": [
            "Epoch 7/20: 100%|██████████| 164/164 [00:46<00:00,  3.55it/s]\n"
          ]
        },
        {
          "output_type": "stream",
          "name": "stdout",
          "text": [
            "\n",
            "✅ Epoch 7 Complete:\n",
            "   🔻 Train Loss   : 0.1573\n",
            "   🔻 Val Loss     : 0.1523\n",
            "   🎯 Train Acc    : 0.9376\n",
            "   🎯 Val Accuracy : 0.9408\n",
            "   🎯 Val Precision: 0.9869\n",
            "   🔁 Val Recall   : 0.9313\n",
            "   📈 Val F1 Score : 0.9583\n"
          ]
        },
        {
          "output_type": "stream",
          "name": "stderr",
          "text": [
            "Epoch 8/20: 100%|██████████| 164/164 [00:46<00:00,  3.54it/s]\n"
          ]
        },
        {
          "output_type": "stream",
          "name": "stdout",
          "text": [
            "\n",
            "✅ Epoch 8 Complete:\n",
            "   🔻 Train Loss   : 0.1530\n",
            "   🔻 Val Loss     : 0.1664\n",
            "   🎯 Train Acc    : 0.9370\n",
            "   🎯 Val Accuracy : 0.9408\n",
            "   🎯 Val Precision: 0.9851\n",
            "   🔁 Val Recall   : 0.9330\n",
            "   📈 Val F1 Score : 0.9584\n"
          ]
        },
        {
          "output_type": "stream",
          "name": "stderr",
          "text": [
            "Epoch 9/20: 100%|██████████| 164/164 [00:46<00:00,  3.54it/s]\n"
          ]
        },
        {
          "output_type": "stream",
          "name": "stdout",
          "text": [
            "\n",
            "✅ Epoch 9 Complete:\n",
            "   🔻 Train Loss   : 0.1444\n",
            "   🔻 Val Loss     : 0.1252\n",
            "   🎯 Train Acc    : 0.9581\n",
            "   🎯 Val Accuracy : 0.9543\n",
            "   🎯 Val Precision: 0.9845\n",
            "   🔁 Val Recall   : 0.9524\n",
            "   📈 Val F1 Score : 0.9682\n"
          ]
        },
        {
          "output_type": "stream",
          "name": "stderr",
          "text": [
            "Epoch 10/20: 100%|██████████| 164/164 [00:46<00:00,  3.52it/s]\n"
          ]
        },
        {
          "output_type": "stream",
          "name": "stdout",
          "text": [
            "\n",
            "✅ Epoch 10 Complete:\n",
            "   🔻 Train Loss   : 0.1314\n",
            "   🔻 Val Loss     : 0.1346\n",
            "   🎯 Train Acc    : 0.9556\n",
            "   🎯 Val Accuracy : 0.9485\n",
            "   🎯 Val Precision: 0.9889\n",
            "   🔁 Val Recall   : 0.9401\n",
            "   📈 Val F1 Score : 0.9639\n"
          ]
        },
        {
          "output_type": "stream",
          "name": "stderr",
          "text": [
            "Epoch 11/20: 100%|██████████| 164/164 [00:46<00:00,  3.53it/s]\n"
          ]
        },
        {
          "output_type": "stream",
          "name": "stdout",
          "text": [
            "\n",
            "✅ Epoch 11 Complete:\n",
            "   🔻 Train Loss   : 0.1418\n",
            "   🔻 Val Loss     : 0.0880\n",
            "   🎯 Train Acc    : 0.9692\n",
            "   🎯 Val Accuracy : 0.9672\n",
            "   🎯 Val Precision: 0.9746\n",
            "   🔁 Val Recall   : 0.9806\n",
            "   📈 Val F1 Score : 0.9776\n"
          ]
        },
        {
          "output_type": "stream",
          "name": "stderr",
          "text": [
            "Epoch 12/20: 100%|██████████| 164/164 [00:46<00:00,  3.52it/s]\n"
          ]
        },
        {
          "output_type": "stream",
          "name": "stdout",
          "text": [
            "\n",
            "✅ Epoch 12 Complete:\n",
            "   🔻 Train Loss   : 0.1282\n",
            "   🔻 Val Loss     : 0.0996\n",
            "   🎯 Train Acc    : 0.9672\n",
            "   🎯 Val Accuracy : 0.9627\n",
            "   🎯 Val Precision: 0.9753\n",
            "   🔁 Val Recall   : 0.9736\n",
            "   📈 Val F1 Score : 0.9744\n"
          ]
        },
        {
          "output_type": "stream",
          "name": "stderr",
          "text": [
            "Epoch 13/20: 100%|██████████| 164/164 [00:46<00:00,  3.55it/s]\n"
          ]
        },
        {
          "output_type": "stream",
          "name": "stdout",
          "text": [
            "\n",
            "✅ Epoch 13 Complete:\n",
            "   🔻 Train Loss   : 0.1197\n",
            "   🔻 Val Loss     : 0.1250\n",
            "   🎯 Train Acc    : 0.9604\n",
            "   🎯 Val Accuracy : 0.9543\n",
            "   🎯 Val Precision: 0.9935\n",
            "   🔁 Val Recall   : 0.9436\n",
            "   📈 Val F1 Score : 0.9679\n"
          ]
        },
        {
          "output_type": "stream",
          "name": "stderr",
          "text": [
            "Epoch 14/20: 100%|██████████| 164/164 [00:46<00:00,  3.55it/s]\n"
          ]
        },
        {
          "output_type": "stream",
          "name": "stdout",
          "text": [
            "\n",
            "✅ Epoch 14 Complete:\n",
            "   🔻 Train Loss   : 0.1189\n",
            "   🔻 Val Loss     : 0.1011\n",
            "   🎯 Train Acc    : 0.9627\n",
            "   🎯 Val Accuracy : 0.9575\n",
            "   🎯 Val Precision: 0.9777\n",
            "   🔁 Val Recall   : 0.9639\n",
            "   📈 Val F1 Score : 0.9707\n"
          ]
        },
        {
          "output_type": "stream",
          "name": "stderr",
          "text": [
            "Epoch 15/20: 100%|██████████| 164/164 [00:46<00:00,  3.53it/s]\n"
          ]
        },
        {
          "output_type": "stream",
          "name": "stdout",
          "text": [
            "\n",
            "✅ Epoch 15 Complete:\n",
            "   🔻 Train Loss   : 0.1163\n",
            "   🔻 Val Loss     : 0.0957\n",
            "   🎯 Train Acc    : 0.9651\n",
            "   🎯 Val Accuracy : 0.9614\n",
            "   🎯 Val Precision: 0.9855\n",
            "   🔁 Val Recall   : 0.9612\n",
            "   📈 Val F1 Score : 0.9732\n"
          ]
        },
        {
          "output_type": "stream",
          "name": "stderr",
          "text": [
            "Epoch 16/20: 100%|██████████| 164/164 [00:46<00:00,  3.51it/s]\n"
          ]
        },
        {
          "output_type": "stream",
          "name": "stdout",
          "text": [
            "\n",
            "✅ Epoch 16 Complete:\n",
            "   🔻 Train Loss   : 0.1206\n",
            "   🔻 Val Loss     : 0.1005\n",
            "   🎯 Train Acc    : 0.9623\n",
            "   🎯 Val Accuracy : 0.9620\n",
            "   🎯 Val Precision: 0.9864\n",
            "   🔁 Val Recall   : 0.9612\n",
            "   📈 Val F1 Score : 0.9737\n"
          ]
        },
        {
          "output_type": "stream",
          "name": "stderr",
          "text": [
            "Epoch 17/20: 100%|██████████| 164/164 [00:46<00:00,  3.51it/s]\n"
          ]
        },
        {
          "output_type": "stream",
          "name": "stdout",
          "text": [
            "\n",
            "✅ Epoch 17 Complete:\n",
            "   🔻 Train Loss   : 0.1073\n",
            "   🔻 Val Loss     : 0.0941\n",
            "   🎯 Train Acc    : 0.9617\n",
            "   🎯 Val Accuracy : 0.9633\n",
            "   🎯 Val Precision: 0.9865\n",
            "   🔁 Val Recall   : 0.9630\n",
            "   📈 Val F1 Score : 0.9746\n"
          ]
        },
        {
          "output_type": "stream",
          "name": "stderr",
          "text": [
            "Epoch 18/20: 100%|██████████| 164/164 [00:46<00:00,  3.55it/s]\n"
          ]
        },
        {
          "output_type": "stream",
          "name": "stdout",
          "text": [
            "\n",
            "✅ Epoch 18 Complete:\n",
            "   🔻 Train Loss   : 0.1101\n",
            "   🔻 Val Loss     : 0.1009\n",
            "   🎯 Train Acc    : 0.9623\n",
            "   🎯 Val Accuracy : 0.9607\n",
            "   🎯 Val Precision: 0.9900\n",
            "   🔁 Val Recall   : 0.9559\n",
            "   📈 Val F1 Score : 0.9727\n"
          ]
        },
        {
          "output_type": "stream",
          "name": "stderr",
          "text": [
            "Epoch 19/20: 100%|██████████| 164/164 [00:46<00:00,  3.54it/s]\n"
          ]
        },
        {
          "output_type": "stream",
          "name": "stdout",
          "text": [
            "\n",
            "✅ Epoch 19 Complete:\n",
            "   🔻 Train Loss   : 0.1092\n",
            "   🔻 Val Loss     : 0.0791\n",
            "   🎯 Train Acc    : 0.9697\n",
            "   🎯 Val Accuracy : 0.9742\n",
            "   🎯 Val Precision: 0.9824\n",
            "   🔁 Val Recall   : 0.9824\n",
            "   📈 Val F1 Score : 0.9824\n"
          ]
        },
        {
          "output_type": "stream",
          "name": "stderr",
          "text": [
            "Epoch 20/20: 100%|██████████| 164/164 [00:45<00:00,  3.58it/s]\n"
          ]
        },
        {
          "output_type": "stream",
          "name": "stdout",
          "text": [
            "\n",
            "✅ Epoch 20 Complete:\n",
            "   🔻 Train Loss   : 0.1059\n",
            "   🔻 Val Loss     : 0.0851\n",
            "   🎯 Train Acc    : 0.9657\n",
            "   🎯 Val Accuracy : 0.9646\n",
            "   🎯 Val Precision: 0.9830\n",
            "   🔁 Val Recall   : 0.9683\n",
            "   📈 Val F1 Score : 0.9756\n",
            "✅ Training complete. Model + history saved to Drive.\n"
          ]
        }
      ]
    },
    {
      "cell_type": "code",
      "source": [
        "import json\n",
        "\n",
        "# ✅ Load training history for FastViT-SA12\n",
        "with open('/content/drive/MyDrive/FastViT-SA12_history.json', 'r') as f:\n",
        "    history = json.load(f)\n",
        "\n",
        "# ✅ Extract final epoch's training and validation accuracy\n",
        "final_train_acc = history['train_accuracy'][-1]\n",
        "final_val_acc   = history['val_accuracy'][-1]\n",
        "\n",
        "print(f\"✅ Final Training Accuracy   : {final_train_acc * 100:.2f}%\")\n",
        "print(f\"✅ Final Validation Accuracy : {final_val_acc * 100:.2f}%\")\n"
      ],
      "metadata": {
        "colab": {
          "base_uri": "https://localhost:8080/"
        },
        "id": "BNestcxgzYXT",
        "outputId": "aa47f708-fca0-4e49-fd4c-147594222457"
      },
      "execution_count": 5,
      "outputs": [
        {
          "output_type": "stream",
          "name": "stdout",
          "text": [
            "✅ Final Training Accuracy   : 96.57%\n",
            "✅ Final Validation Accuracy : 96.46%\n"
          ]
        }
      ]
    },
    {
      "cell_type": "code",
      "source": [
        "import matplotlib.pyplot as plt\n",
        "import json\n",
        "\n",
        "# ✅ Load training history for FastViT-SA12\n",
        "with open('/content/drive/MyDrive/FastViT-SA12_history.json', 'r') as f:\n",
        "    history = json.load(f)\n",
        "\n",
        "# ✅ Plot Accuracy\n",
        "plt.figure(figsize=(8, 5))\n",
        "plt.plot(history['train_accuracy'], label='Train Accuracy', linewidth=2)\n",
        "plt.plot(history['val_accuracy'], label='Validation Accuracy', linewidth=2)\n",
        "plt.title('FastViT-SA12 Accuracy per Epoch', fontsize=14)\n",
        "plt.xlabel('Epoch')\n",
        "plt.ylabel('Accuracy')\n",
        "plt.legend()\n",
        "plt.grid(True)\n",
        "plt.tight_layout()\n",
        "plt.show()\n"
      ],
      "metadata": {
        "colab": {
          "base_uri": "https://localhost:8080/",
          "height": 507
        },
        "id": "cyPyejsR04b0",
        "outputId": "e95ef615-31f6-4b4c-d29e-f173eff17847"
      },
      "execution_count": 6,
      "outputs": [
        {
          "output_type": "display_data",
          "data": {
            "text/plain": [
              "<Figure size 800x500 with 1 Axes>"
            ],
            "image/png": "[encoded data removed]"
          },
          "metadata": {}
        }
      ]
    },
    {
      "cell_type": "code",
      "source": [
        "import matplotlib.pyplot as plt\n",
        "import json\n",
        "\n",
        "# ✅ Load training history for FastViT-SA12\n",
        "with open('/content/drive/MyDrive/FastViT-SA12_history.json', 'r') as f:\n",
        "    history = json.load(f)\n",
        "\n",
        "# ✅ Plot Loss\n",
        "plt.figure(figsize=(8, 5))\n",
        "plt.plot(history['train_loss'], label='Train Loss', linewidth=2)\n",
        "plt.plot(history['val_loss'], label='Validation Loss', linewidth=2)\n",
        "plt.title('FastViT-SA12 Loss per Epoch', fontsize=14)\n",
        "plt.xlabel('Epoch')\n",
        "plt.ylabel('Loss')\n",
        "plt.legend()\n",
        "plt.grid(True)\n",
        "plt.tight_layout()\n",
        "plt.show()\n"
      ],
      "metadata": {
        "colab": {
          "base_uri": "https://localhost:8080/",
          "height": 507
        },
        "id": "CZWj37o51RqP",
        "outputId": "f7ed67e1-d241-48e8-8834-15176e619544"
      },
      "execution_count": 7,
      "outputs": [
        {
          "output_type": "display_data",
          "data": {
            "text/plain": [
              "<Figure size 800x500 with 1 Axes>"
            ],
            "image/png": "[encoded data removed]"
          },
          "metadata": {}
        }
      ]
    },
    {
      "cell_type": "code",
      "source": [
        "import os\n",
        "import torch\n",
        "import torch.nn as nn\n",
        "from torchvision import datasets, transforms\n",
        "from torch.utils.data import DataLoader\n",
        "from sklearn.metrics import accuracy_score\n",
        "\n",
        "# ✅ Paste your FastViTSA12 model here\n",
        "class FastViTBlock(nn.Module):\n",
        "    def __init__(self, in_chs, out_chs, stride=1, expansion=2):\n",
        "        super().__init__()\n",
        "        hidden_dim = in_chs * expansion\n",
        "        self.conv = nn.Sequential(\n",
        "            nn.Conv2d(in_chs, hidden_dim, 1, bias=False),\n",
        "            nn.BatchNorm2d(hidden_dim),\n",
        "            nn.SiLU(),\n",
        "            nn.Conv2d(hidden_dim, hidden_dim, 3, stride, 1, groups=hidden_dim, bias=False),\n",
        "            nn.BatchNorm2d(hidden_dim),\n",
        "            nn.SiLU(),\n",
        "            nn.Conv2d(hidden_dim, out_chs, 1, bias=False),\n",
        "            nn.BatchNorm2d(out_chs),\n",
        "        )\n",
        "        self.use_residual = stride == 1 and in_chs == out_chs\n",
        "\n",
        "    def forward(self, x):\n",
        "        out = self.conv(x)\n",
        "        return x + out if self.use_residual else out\n",
        "\n",
        "class FastViTSA12(nn.Module):\n",
        "    def __init__(self, num_classes=2):\n",
        "        super().__init__()\n",
        "        self.stem = nn.Sequential(\n",
        "            nn.Conv2d(3, 16, 3, stride=2, padding=1, bias=False),\n",
        "            nn.BatchNorm2d(16),\n",
        "            nn.SiLU()\n",
        "        )\n",
        "        self.stage1 = FastViTBlock(16, 32, stride=1)\n",
        "        self.stage2 = FastViTBlock(32, 64, stride=2)\n",
        "        self.stage3 = FastViTBlock(64, 128, stride=2)\n",
        "        self.stage4 = FastViTBlock(128, 128, stride=1)\n",
        "        self.global_pool = nn.AdaptiveAvgPool2d(1)\n",
        "        self.classifier = nn.Sequential(\n",
        "            nn.Flatten(),\n",
        "            nn.Linear(128, num_classes)\n",
        "        )\n",
        "\n",
        "    def forward(self, x):\n",
        "        x = self.stem(x)\n",
        "        x = self.stage1(x)\n",
        "        x = self.stage2(x)\n",
        "        x = self.stage3(x)\n",
        "        x = self.stage4(x)\n",
        "        x = self.global_pool(x)\n",
        "        return self.classifier(x)\n",
        "\n",
        "# -------- CONFIG -------- #\n",
        "base_path = '/content/drive/MyDrive/Medical_Data/archive/chest_xray/chest_xray_split'\n",
        "model_path = '/content/drive/MyDrive/FastViT-SA12_final.pth'\n",
        "batch_size = 32\n",
        "image_size = 256\n",
        "device = torch.device(\"cuda\" if torch.cuda.is_available() else \"cpu\")\n",
        "\n",
        "# -------- DATASET PREP -------- #\n",
        "mean = (0.5, 0.5, 0.5)\n",
        "std = (0.5, 0.5, 0.5)\n",
        "\n",
        "test_transform = transforms.Compose([\n",
        "    transforms.Resize((image_size, image_size)),\n",
        "    transforms.ToTensor(),\n",
        "    transforms.Normalize(mean, std)\n",
        "])\n",
        "\n",
        "test_dataset = datasets.ImageFolder(os.path.join(base_path, 'test'), transform=test_transform)\n",
        "test_loader = DataLoader(test_dataset, batch_size=batch_size, shuffle=False)\n",
        "class_names = test_dataset.classes\n",
        "\n",
        "# -------- LOAD MODEL -------- #\n",
        "model = FastViTSA12(num_classes=2).to(device)\n",
        "model.load_state_dict(torch.load(model_path, map_location=device))\n",
        "model.eval()\n",
        "\n",
        "# -------- EVALUATE -------- #\n",
        "criterion = nn.CrossEntropyLoss()\n",
        "all_preds, all_labels = [], []\n",
        "running_loss = 0.0\n",
        "\n",
        "with torch.no_grad():\n",
        "    for images, labels in test_loader:\n",
        "        images, labels = images.to(device), labels.to(device)\n",
        "        outputs = model(images)\n",
        "        loss = criterion(outputs, labels)\n",
        "        running_loss += loss.item()\n",
        "\n",
        "        preds = torch.argmax(outputs, dim=1)\n",
        "        all_preds.extend(preds.cpu().numpy())\n",
        "        all_labels.extend(labels.cpu().numpy())\n",
        "\n",
        "avg_loss = running_loss / len(test_loader)\n",
        "test_accuracy = accuracy_score(all_labels, all_preds)\n",
        "\n",
        "print(f\"✅ Test Accuracy: {test_accuracy * 100:.2f}%\")\n",
        "print(f\"📉 Test Loss: {avg_loss:.4f}\")\n"
      ],
      "metadata": {
        "colab": {
          "base_uri": "https://localhost:8080/"
        },
        "id": "G63JnNcF1TmB",
        "outputId": "82c355ab-ee99-40ba-ba5e-a99526dc96ef"
      },
      "execution_count": 10,
      "outputs": [
        {
          "output_type": "stream",
          "name": "stdout",
          "text": [
            "✅ Test Accuracy: 96.14%\n",
            "📉 Test Loss: 0.0949\n"
          ]
        }
      ]
    },
    {
      "cell_type": "code",
      "source": [
        "import os\n",
        "import numpy as np\n",
        "import matplotlib.pyplot as plt\n",
        "import torch\n",
        "import torch.nn as nn\n",
        "from torchvision import datasets, transforms\n",
        "from torch.utils.data import DataLoader\n",
        "from sklearn.metrics import (\n",
        "    accuracy_score, precision_score, recall_score,\n",
        "    f1_score, confusion_matrix, ConfusionMatrixDisplay\n",
        ")\n",
        "\n",
        "# ✅ FastViT-SA12 Model Definition\n",
        "class FastViTBlock(nn.Module):\n",
        "    def __init__(self, in_chs, out_chs, stride=1, expansion=2):\n",
        "        super().__init__()\n",
        "        hidden_dim = in_chs * expansion\n",
        "        self.conv = nn.Sequential(\n",
        "            nn.Conv2d(in_chs, hidden_dim, 1, bias=False),\n",
        "            nn.BatchNorm2d(hidden_dim),\n",
        "            nn.SiLU(),\n",
        "            nn.Conv2d(hidden_dim, hidden_dim, 3, stride, 1, groups=hidden_dim, bias=False),\n",
        "            nn.BatchNorm2d(hidden_dim),\n",
        "            nn.SiLU(),\n",
        "            nn.Conv2d(hidden_dim, out_chs, 1, bias=False),\n",
        "            nn.BatchNorm2d(out_chs),\n",
        "        )\n",
        "        self.use_residual = stride == 1 and in_chs == out_chs\n",
        "\n",
        "    def forward(self, x):\n",
        "        out = self.conv(x)\n",
        "        return x + out if self.use_residual else out\n",
        "\n",
        "class FastViTSA12(nn.Module):\n",
        "    def __init__(self, num_classes=2):\n",
        "        super().__init__()\n",
        "        self.stem = nn.Sequential(\n",
        "            nn.Conv2d(3, 16, 3, stride=2, padding=1, bias=False),\n",
        "            nn.BatchNorm2d(16),\n",
        "            nn.SiLU()\n",
        "        )\n",
        "        self.stage1 = FastViTBlock(16, 32, stride=1)\n",
        "        self.stage2 = FastViTBlock(32, 64, stride=2)\n",
        "        self.stage3 = FastViTBlock(64, 128, stride=2)\n",
        "        self.stage4 = FastViTBlock(128, 128, stride=1)\n",
        "        self.global_pool = nn.AdaptiveAvgPool2d(1)\n",
        "        self.classifier = nn.Sequential(\n",
        "            nn.Flatten(),\n",
        "            nn.Linear(128, num_classes)\n",
        "        )\n",
        "\n",
        "    def forward(self, x):\n",
        "        x = self.stem(x)\n",
        "        x = self.stage1(x)\n",
        "        x = self.stage2(x)\n",
        "        x = self.stage3(x)\n",
        "        x = self.stage4(x)\n",
        "        x = self.global_pool(x)\n",
        "        return self.classifier(x)\n",
        "\n",
        "# -------- CONFIG -------- #\n",
        "base_path = '/content/drive/MyDrive/Medical_Data/archive/chest_xray/chest_xray_split'\n",
        "model_path = '/content/drive/MyDrive/FastViT-SA12_final.pth'\n",
        "image_size = 256\n",
        "batch_size = 32\n",
        "device = torch.device(\"cuda\" if torch.cuda.is_available() else \"cpu\")\n",
        "\n",
        "# -------- DATASET PREP -------- #\n",
        "mean, std = (0.5, 0.5, 0.5), (0.5, 0.5, 0.5)\n",
        "test_transform = transforms.Compose([\n",
        "    transforms.Resize((image_size, image_size)),\n",
        "    transforms.ToTensor(),\n",
        "    transforms.Normalize(mean, std)\n",
        "])\n",
        "\n",
        "test_dataset = datasets.ImageFolder(os.path.join(base_path, 'test'), transform=test_transform)\n",
        "test_loader = DataLoader(test_dataset, batch_size=batch_size, shuffle=False)\n",
        "class_names = test_dataset.classes\n",
        "\n",
        "# -------- LOAD TRAINED MODEL -------- #\n",
        "model = FastViTSA12(num_classes=2).to(device)\n",
        "model.load_state_dict(torch.load(model_path, map_location=device))\n",
        "model.eval()\n",
        "\n",
        "# -------- Step 1–2: Predict on Test Set -------- #\n",
        "all_labels, all_probs = [], []\n",
        "with torch.no_grad():\n",
        "    for images, labels in test_loader:\n",
        "        images = images.to(device)\n",
        "        outputs = model(images)\n",
        "        probs = torch.softmax(outputs, dim=1)[:, 1]  # Probability of class 1 (PNEUMONIA)\n",
        "        all_probs.extend(probs.cpu().numpy())\n",
        "        all_labels.extend(labels.cpu().numpy())\n",
        "\n",
        "# -------- Step 3: Apply Threshold -------- #\n",
        "threshold = 0.50\n",
        "y_true = np.array(all_labels)\n",
        "y_pred = (np.array(all_probs) > threshold).astype(int)\n",
        "\n",
        "# -------- Step 4: Metrics -------- #\n",
        "overall_accuracy  = accuracy_score(y_true, y_pred)\n",
        "overall_precision = precision_score(y_true, y_pred)\n",
        "overall_recall    = recall_score(y_true, y_pred)\n",
        "overall_f1        = f1_score(y_true, y_pred)\n",
        "\n",
        "# -------- Step 5: Print Metrics -------- #\n",
        "print(\"📊 Overall Model Performance (FastViT-SA12, Threshold = 0.50):\\n\")\n",
        "print(f\"✅ Accuracy :  {overall_accuracy:.4f}\")\n",
        "print(f\"🎯 Precision: {overall_precision:.4f}\")\n",
        "print(f\"🔁 Recall   : {overall_recall:.4f}\")\n",
        "print(f\"📈 F1 Score : {overall_f1:.4f}\")\n",
        "\n",
        "# -------- Step 6: Confusion Matrix -------- #\n",
        "cm = confusion_matrix(y_true, y_pred)\n",
        "labels = class_names  # ['NORMAL', 'PNEUMONIA']\n",
        "\n",
        "# -------- Step 7: Plot Confusion Matrix -------- #\n",
        "disp = ConfusionMatrixDisplay(confusion_matrix=cm, display_labels=labels)\n",
        "disp.plot(cmap=plt.cm.Blues)\n",
        "plt.title(\"FastViT-SA12 - Confusion Matrix (Threshold = 0.50)\")\n",
        "plt.grid(False)\n",
        "plt.show()\n",
        "\n",
        "# -------- Step 8: TP, TN, FP, FN Breakdown -------- #\n",
        "tn, fp, fn, tp = cm.ravel()\n",
        "print(\"\\n🧮 Confusion Matrix Breakdown:\")\n",
        "print(f\"✅ True Positives (TP): {tp}\")\n",
        "print(f\"✅ True Negatives (TN): {tn}\")\n",
        "print(f\"❌ False Positives (FP): {fp}\")\n",
        "print(f\"❌ False Negatives (FN): {fn}\")\n"
      ],
      "metadata": {
        "colab": {
          "base_uri": "https://localhost:8080/",
          "height": 680
        },
        "id": "7_PWduL51h_z",
        "outputId": "d0fc482d-8294-4131-8383-f90207ab7f07"
      },
      "execution_count": 12,
      "outputs": [
        {
          "output_type": "stream",
          "name": "stdout",
          "text": [
            "📊 Overall Model Performance (FastViT-SA12, Threshold = 0.50):\n",
            "\n",
            "✅ Accuracy :  0.9614\n",
            "🎯 Precision: 0.9883\n",
            "🔁 Recall   : 0.9588\n",
            "📈 F1 Score : 0.9733\n"
          ]
        },
        {
          "output_type": "display_data",
          "data": {
            "text/plain": [
              "<Figure size 640x480 with 2 Axes>"
            ],
            "image/png": "[encoded data removed]"
          },
          "metadata": {}
        },
        {
          "output_type": "stream",
          "name": "stdout",
          "text": [
            "\n",
            "🧮 Confusion Matrix Breakdown:\n",
            "✅ True Positives (TP): 1094\n",
            "✅ True Negatives (TN): 402\n",
            "❌ False Positives (FP): 13\n",
            "❌ False Negatives (FN): 47\n"
          ]
        }
      ]
    },
    {
      "cell_type": "markdown",
      "source": [],
      "metadata": {
        "id": "-9gsH1tJ2TlU"
      }
    }
  ]
}