{
  "cells": [
    {
      "cell_type": "code",
      "execution_count": 1,
      "metadata": {
        "colab": {
          "base_uri": "https://localhost:8080/"
        },
        "id": "HI132R-HGepb",
        "outputId": "a0b48ca1-3f9e-4223-b004-f542bfb1184a"
      },
      "outputs": [
        {
          "name": "stdout",
          "output_type": "stream",
          "text": [
            "Mounted at /content/drive\n"
          ]
        }
      ],
      "source": [
        "from google.colab import drive\n",
        "drive.mount('/content/drive')"
      ]
    },
    {
      "cell_type": "code",
      "execution_count": 2,
      "metadata": {
        "colab": {
          "base_uri": "https://localhost:8080/"
        },
        "id": "YjtFoo20G5qD",
        "outputId": "da09c17b-c4dd-4712-e334-6c9aff6dfcff"
      },
      "outputs": [
        {
          "name": "stdout",
          "output_type": "stream",
          "text": [
            "['train', 'val', 'test']\n"
          ]
        }
      ],
      "source": [
        "import os\n",
        "\n",
        "correct_path = '/content/drive/MyDrive/Medical_Data/archive/chest_xray/chest_xray_split'\n",
        "print(os.listdir(correct_path))"
      ]
    },
    {
      "cell_type": "code",
      "execution_count": 7,
      "metadata": {
        "colab": {
          "base_uri": "https://localhost:8080/"
        },
        "id": "d_l5hIdQHA5O",
        "outputId": "7dc4f059-14f5-494b-ff69-4bdfa98e856f"
      },
      "outputs": [
        {
          "name": "stdout",
          "output_type": "stream",
          "text": [
            "Train folders: ['PNEUMONIA', 'NORMAL']\n",
            "Val folders: ['PNEUMONIA', 'NORMAL']\n",
            "Test folders: ['PNEUMONIA', 'NORMAL']\n"
          ]
        }
      ],
      "source": [
        "print(\"Train folders:\", os.listdir(correct_path + '/train'))\n",
        "print(\"Val folders:\", os.listdir(correct_path + '/val'))\n",
        "print(\"Test folders:\", os.listdir(correct_path + '/test'))"
      ]
    },
    {
      "cell_type": "code",
      "execution_count": 8,
      "metadata": {
        "colab": {
          "base_uri": "https://localhost:8080/"
        },
        "id": "9969Nuy8HDMN",
        "outputId": "c0ab8257-3a04-4011-8986-2f9ab6b010e9"
      },
      "outputs": [
        {
          "name": "stdout",
          "output_type": "stream",
          "text": [
            "Train - PNEUMONIA: 3818 images\n",
            "Train - NORMAL: 1403 images\n",
            "Val - PNEUMONIA: 1135 images\n",
            "Val - NORMAL: 418 images\n",
            "Test - PNEUMONIA: 1141 images\n",
            "Test - NORMAL: 415 images\n"
          ]
        }
      ],
      "source": [
        "import os\n",
        "\n",
        "base_path = '/content/drive/MyDrive/Medical_Data/archive/chest_xray/chest_xray_split'\n",
        "\n",
        "splits = ['train', 'val', 'test']\n",
        "classes = ['PNEUMONIA', 'NORMAL']\n",
        "\n",
        "for split in splits:\n",
        "    for cls in classes:\n",
        "        folder = os.path.join(base_path, split, cls)\n",
        "        count = len([f for f in os.listdir(folder) if f.lower().endswith(('.jpg', '.jpeg', '.png'))])\n",
        "        print(f\"{split.capitalize()} - {cls}: {count} images\")\n"
      ]
    },
    {
      "cell_type": "code",
      "execution_count": 9,
      "metadata": {
        "colab": {
          "base_uri": "https://localhost:8080/"
        },
        "id": "8hJ25qA0JLDR",
        "outputId": "4769e88f-78e0-4e5f-8558-96a9ea0ab39a"
      },
      "outputs": [
        {
          "name": "stdout",
          "output_type": "stream",
          "text": [
            "Found 5221 images belonging to 2 classes.\n",
            "Found 1553 images belonging to 2 classes.\n",
            "🛠 Building new model...\n",
            "Downloading data from https://storage.googleapis.com/tensorflow/keras-applications/efficientnet_v2/efficientnetv2-b0_notop.h5\n",
            "\u001b[1m24274472/24274472\u001b[0m \u001b[32m━━━━━━━━━━━━━━━━━━━━\u001b[0m\u001b[37m\u001b[0m \u001b[1m0s\u001b[0m 0us/step\n"
          ]
        },
        {
          "name": "stderr",
          "output_type": "stream",
          "text": [
            "/usr/local/lib/python3.11/dist-packages/keras/src/trainers/data_adapters/py_dataset_adapter.py:121: UserWarning: Your `PyDataset` class should call `super().__init__(**kwargs)` in its constructor. `**kwargs` can include `workers`, `use_multiprocessing`, `max_queue_size`. Do not pass these arguments to `fit()`, as they will be ignored.\n",
            "  self._warn_if_super_not_called()\n"
          ]
        },
        {
          "name": "stdout",
          "output_type": "stream",
          "text": [
            "Epoch 1/15\n",
            "\u001b[1m164/164\u001b[0m \u001b[32m━━━━━━━━━━━━━━━━━━━━\u001b[0m\u001b[37m\u001b[0m \u001b[1m0s\u001b[0m 9s/step - accuracy: 0.7327 - loss: 0.5022\n",
            "Epoch 1: saving model to /content/drive/MyDrive/TEfficientNetV2B0_checkpoint.h5\n"
          ]
        },
        {
          "name": "stderr",
          "output_type": "stream",
          "text": [
            "WARNING:absl:You are saving your model as an HDF5 file via `model.save()` or `keras.saving.save_model(model)`. This file format is considered legacy. We recommend using instead the native Keras format, e.g. `model.save('my_model.keras')` or `keras.saving.save_model(model, 'my_model.keras')`. \n"
          ]
        },
        {
          "name": "stdout",
          "output_type": "stream",
          "text": [
            "\b\b\b\b\b\b\b\b\b\b\b\b\b\b\b\b\b\b\b\b\b\b\b\b\b\b\b\b\b\b\b\b\b\b\b\b\b\b\b\b\b\b\b\b\b\b\b\b\b\b\b\b\b\b\b\b\b\b\b\b\b\b\b\b\b\b\b\b\b\b\b\b\b\r\u001b[1m164/164\u001b[0m \u001b[32m━━━━━━━━━━━━━━━━━━━━\u001b[0m\u001b[37m\u001b[0m \u001b[1m1946s\u001b[0m 12s/step - accuracy: 0.7332 - loss: 0.5016 - val_accuracy: 0.9156 - val_loss: 0.2408\n",
            "Epoch 2/15\n",
            "\u001b[1m164/164\u001b[0m \u001b[32m━━━━━━━━━━━━━━━━━━━━\u001b[0m\u001b[37m\u001b[0m \u001b[1m0s\u001b[0m 2s/step - accuracy: 0.8837 - loss: 0.2701\n",
            "Epoch 2: saving model to /content/drive/MyDrive/TEfficientNetV2B0_checkpoint.h5\n"
          ]
        },
        {
          "name": "stderr",
          "output_type": "stream",
          "text": [
            "WARNING:absl:You are saving your model as an HDF5 file via `model.save()` or `keras.saving.save_model(model)`. This file format is considered legacy. We recommend using instead the native Keras format, e.g. `model.save('my_model.keras')` or `keras.saving.save_model(model, 'my_model.keras')`. \n"
          ]
        },
        {
          "name": "stdout",
          "output_type": "stream",
          "text": [
            "\b\b\b\b\b\b\b\b\b\b\b\b\b\b\b\b\b\b\b\b\b\b\b\b\b\b\b\b\b\b\b\b\b\b\b\b\b\b\b\b\b\b\b\b\b\b\b\b\b\b\b\b\b\b\b\b\b\b\b\b\b\b\b\b\b\b\b\b\b\b\b\b\b\r\u001b[1m164/164\u001b[0m \u001b[32m━━━━━━━━━━━━━━━━━━━━\u001b[0m\u001b[37m\u001b[0m \u001b[1m405s\u001b[0m 2s/step - accuracy: 0.8837 - loss: 0.2700 - val_accuracy: 0.9356 - val_loss: 0.1849\n",
            "Epoch 3/15\n",
            "\u001b[1m164/164\u001b[0m \u001b[32m━━━━━━━━━━━━━━━━━━━━\u001b[0m\u001b[37m\u001b[0m \u001b[1m0s\u001b[0m 2s/step - accuracy: 0.9065 - loss: 0.2324\n",
            "Epoch 3: saving model to /content/drive/MyDrive/TEfficientNetV2B0_checkpoint.h5\n"
          ]
        },
        {
          "name": "stderr",
          "output_type": "stream",
          "text": [
            "WARNING:absl:You are saving your model as an HDF5 file via `model.save()` or `keras.saving.save_model(model)`. This file format is considered legacy. We recommend using instead the native Keras format, e.g. `model.save('my_model.keras')` or `keras.saving.save_model(model, 'my_model.keras')`. \n"
          ]
        },
        {
          "name": "stdout",
          "output_type": "stream",
          "text": [
            "\b\b\b\b\b\b\b\b\b\b\b\b\b\b\b\b\b\b\b\b\b\b\b\b\b\b\b\b\b\b\b\b\b\b\b\b\b\b\b\b\b\b\b\b\b\b\b\b\b\b\b\b\b\b\b\b\b\b\b\b\b\b\b\b\b\b\b\b\b\b\b\b\b\r\u001b[1m164/164\u001b[0m \u001b[32m━━━━━━━━━━━━━━━━━━━━\u001b[0m\u001b[37m\u001b[0m \u001b[1m442s\u001b[0m 2s/step - accuracy: 0.9064 - loss: 0.2324 - val_accuracy: 0.9408 - val_loss: 0.1685\n",
            "Epoch 4/15\n",
            "\u001b[1m164/164\u001b[0m \u001b[32m━━━━━━━━━━━━━━━━━━━━\u001b[0m\u001b[37m\u001b[0m \u001b[1m0s\u001b[0m 2s/step - accuracy: 0.9187 - loss: 0.2029\n",
            "Epoch 4: saving model to /content/drive/MyDrive/TEfficientNetV2B0_checkpoint.h5\n"
          ]
        },
        {
          "name": "stderr",
          "output_type": "stream",
          "text": [
            "WARNING:absl:You are saving your model as an HDF5 file via `model.save()` or `keras.saving.save_model(model)`. This file format is considered legacy. We recommend using instead the native Keras format, e.g. `model.save('my_model.keras')` or `keras.saving.save_model(model, 'my_model.keras')`. \n"
          ]
        },
        {
          "name": "stdout",
          "output_type": "stream",
          "text": [
            "\b\b\b\b\b\b\b\b\b\b\b\b\b\b\b\b\b\b\b\b\b\b\b\b\b\b\b\b\b\b\b\b\b\b\b\b\b\b\b\b\b\b\b\b\b\b\b\b\b\b\b\b\b\b\b\b\b\b\b\b\b\b\b\b\b\b\b\b\b\b\b\b\b\r\u001b[1m164/164\u001b[0m \u001b[32m━━━━━━━━━━━━━━━━━━━━\u001b[0m\u001b[37m\u001b[0m \u001b[1m412s\u001b[0m 3s/step - accuracy: 0.9187 - loss: 0.2029 - val_accuracy: 0.9453 - val_loss: 0.1503\n",
            "Epoch 5/15\n",
            "\u001b[1m164/164\u001b[0m \u001b[32m━━━━━━━━━━━━━━━━━━━━\u001b[0m\u001b[37m\u001b[0m \u001b[1m0s\u001b[0m 2s/step - accuracy: 0.9063 - loss: 0.2166\n",
            "Epoch 5: saving model to /content/drive/MyDrive/TEfficientNetV2B0_checkpoint.h5\n"
          ]
        },
        {
          "name": "stderr",
          "output_type": "stream",
          "text": [
            "WARNING:absl:You are saving your model as an HDF5 file via `model.save()` or `keras.saving.save_model(model)`. This file format is considered legacy. We recommend using instead the native Keras format, e.g. `model.save('my_model.keras')` or `keras.saving.save_model(model, 'my_model.keras')`. \n"
          ]
        },
        {
          "name": "stdout",
          "output_type": "stream",
          "text": [
            "\b\b\b\b\b\b\b\b\b\b\b\b\b\b\b\b\b\b\b\b\b\b\b\b\b\b\b\b\b\b\b\b\b\b\b\b\b\b\b\b\b\b\b\b\b\b\b\b\b\b\b\b\b\b\b\b\b\b\b\b\b\b\b\b\b\b\b\b\b\b\b\b\b\r\u001b[1m164/164\u001b[0m \u001b[32m━━━━━━━━━━━━━━━━━━━━\u001b[0m\u001b[37m\u001b[0m \u001b[1m399s\u001b[0m 2s/step - accuracy: 0.9063 - loss: 0.2165 - val_accuracy: 0.9524 - val_loss: 0.1315\n",
            "Epoch 6/15\n",
            "\u001b[1m164/164\u001b[0m \u001b[32m━━━━━━━━━━━━━━━━━━━━\u001b[0m\u001b[37m\u001b[0m \u001b[1m0s\u001b[0m 2s/step - accuracy: 0.9270 - loss: 0.1835\n",
            "Epoch 6: saving model to /content/drive/MyDrive/TEfficientNetV2B0_checkpoint.h5\n"
          ]
        },
        {
          "name": "stderr",
          "output_type": "stream",
          "text": [
            "WARNING:absl:You are saving your model as an HDF5 file via `model.save()` or `keras.saving.save_model(model)`. This file format is considered legacy. We recommend using instead the native Keras format, e.g. `model.save('my_model.keras')` or `keras.saving.save_model(model, 'my_model.keras')`. \n"
          ]
        },
        {
          "name": "stdout",
          "output_type": "stream",
          "text": [
            "\b\b\b\b\b\b\b\b\b\b\b\b\b\b\b\b\b\b\b\b\b\b\b\b\b\b\b\b\b\b\b\b\b\b\b\b\b\b\b\b\b\b\b\b\b\b\b\b\b\b\b\b\b\b\b\b\b\b\b\b\b\b\b\b\b\b\b\b\b\b\b\b\b\r\u001b[1m164/164\u001b[0m \u001b[32m━━━━━━━━━━━━━━━━━━━━\u001b[0m\u001b[37m\u001b[0m \u001b[1m395s\u001b[0m 2s/step - accuracy: 0.9270 - loss: 0.1836 - val_accuracy: 0.9536 - val_loss: 0.1320\n",
            "Epoch 7/15\n",
            "\u001b[1m164/164\u001b[0m \u001b[32m━━━━━━━━━━━━━━━━━━━━\u001b[0m\u001b[37m\u001b[0m \u001b[1m0s\u001b[0m 2s/step - accuracy: 0.9179 - loss: 0.1938\n",
            "Epoch 7: saving model to /content/drive/MyDrive/TEfficientNetV2B0_checkpoint.h5\n"
          ]
        },
        {
          "name": "stderr",
          "output_type": "stream",
          "text": [
            "WARNING:absl:You are saving your model as an HDF5 file via `model.save()` or `keras.saving.save_model(model)`. This file format is considered legacy. We recommend using instead the native Keras format, e.g. `model.save('my_model.keras')` or `keras.saving.save_model(model, 'my_model.keras')`. \n"
          ]
        },
        {
          "name": "stdout",
          "output_type": "stream",
          "text": [
            "\b\b\b\b\b\b\b\b\b\b\b\b\b\b\b\b\b\b\b\b\b\b\b\b\b\b\b\b\b\b\b\b\b\b\b\b\b\b\b\b\b\b\b\b\b\b\b\b\b\b\b\b\b\b\b\b\b\b\b\b\b\b\b\b\b\b\b\b\b\b\b\b\b\r\u001b[1m164/164\u001b[0m \u001b[32m━━━━━━━━━━━━━━━━━━━━\u001b[0m\u001b[37m\u001b[0m \u001b[1m445s\u001b[0m 2s/step - accuracy: 0.9180 - loss: 0.1938 - val_accuracy: 0.9588 - val_loss: 0.1296\n",
            "Epoch 8/15\n",
            "\u001b[1m164/164\u001b[0m \u001b[32m━━━━━━━━━━━━━━━━━━━━\u001b[0m\u001b[37m\u001b[0m \u001b[1m0s\u001b[0m 2s/step - accuracy: 0.9287 - loss: 0.1870\n",
            "Epoch 8: saving model to /content/drive/MyDrive/TEfficientNetV2B0_checkpoint.h5\n"
          ]
        },
        {
          "name": "stderr",
          "output_type": "stream",
          "text": [
            "WARNING:absl:You are saving your model as an HDF5 file via `model.save()` or `keras.saving.save_model(model)`. This file format is considered legacy. We recommend using instead the native Keras format, e.g. `model.save('my_model.keras')` or `keras.saving.save_model(model, 'my_model.keras')`. \n"
          ]
        },
        {
          "name": "stdout",
          "output_type": "stream",
          "text": [
            "\b\b\b\b\b\b\b\b\b\b\b\b\b\b\b\b\b\b\b\b\b\b\b\b\b\b\b\b\b\b\b\b\b\b\b\b\b\b\b\b\b\b\b\b\b\b\b\b\b\b\b\b\b\b\b\b\b\b\b\b\b\b\b\b\b\b\b\b\b\b\b\b\b\r\u001b[1m164/164\u001b[0m \u001b[32m━━━━━━━━━━━━━━━━━━━━\u001b[0m\u001b[37m\u001b[0m \u001b[1m400s\u001b[0m 2s/step - accuracy: 0.9287 - loss: 0.1870 - val_accuracy: 0.9594 - val_loss: 0.1207\n",
            "Epoch 9/15\n",
            "\u001b[1m164/164\u001b[0m \u001b[32m━━━━━━━━━━━━━━━━━━━━\u001b[0m\u001b[37m\u001b[0m \u001b[1m0s\u001b[0m 2s/step - accuracy: 0.9273 - loss: 0.1730\n",
            "Epoch 9: saving model to /content/drive/MyDrive/TEfficientNetV2B0_checkpoint.h5\n"
          ]
        },
        {
          "name": "stderr",
          "output_type": "stream",
          "text": [
            "WARNING:absl:You are saving your model as an HDF5 file via `model.save()` or `keras.saving.save_model(model)`. This file format is considered legacy. We recommend using instead the native Keras format, e.g. `model.save('my_model.keras')` or `keras.saving.save_model(model, 'my_model.keras')`. \n"
          ]
        },
        {
          "name": "stdout",
          "output_type": "stream",
          "text": [
            "\b\b\b\b\b\b\b\b\b\b\b\b\b\b\b\b\b\b\b\b\b\b\b\b\b\b\b\b\b\b\b\b\b\b\b\b\b\b\b\b\b\b\b\b\b\b\b\b\b\b\b\b\b\b\b\b\b\b\b\b\b\b\b\b\b\b\b\b\b\b\b\b\b\r\u001b[1m164/164\u001b[0m \u001b[32m━━━━━━━━━━━━━━━━━━━━\u001b[0m\u001b[37m\u001b[0m \u001b[1m443s\u001b[0m 2s/step - accuracy: 0.9273 - loss: 0.1731 - val_accuracy: 0.9594 - val_loss: 0.1152\n",
            "Epoch 10/15\n",
            "\u001b[1m164/164\u001b[0m \u001b[32m━━━━━━━━━━━━━━━━━━━━\u001b[0m\u001b[37m\u001b[0m \u001b[1m0s\u001b[0m 2s/step - accuracy: 0.9269 - loss: 0.1770\n",
            "Epoch 10: saving model to /content/drive/MyDrive/TEfficientNetV2B0_checkpoint.h5\n"
          ]
        },
        {
          "name": "stderr",
          "output_type": "stream",
          "text": [
            "WARNING:absl:You are saving your model as an HDF5 file via `model.save()` or `keras.saving.save_model(model)`. This file format is considered legacy. We recommend using instead the native Keras format, e.g. `model.save('my_model.keras')` or `keras.saving.save_model(model, 'my_model.keras')`. \n"
          ]
        },
        {
          "name": "stdout",
          "output_type": "stream",
          "text": [
            "\b\b\b\b\b\b\b\b\b\b\b\b\b\b\b\b\b\b\b\b\b\b\b\b\b\b\b\b\b\b\b\b\b\b\b\b\b\b\b\b\b\b\b\b\b\b\b\b\b\b\b\b\b\b\b\b\b\b\b\b\b\b\b\b\b\b\b\b\b\b\b\b\b\r\u001b[1m164/164\u001b[0m \u001b[32m━━━━━━━━━━━━━━━━━━━━\u001b[0m\u001b[37m\u001b[0m \u001b[1m395s\u001b[0m 2s/step - accuracy: 0.9269 - loss: 0.1770 - val_accuracy: 0.9620 - val_loss: 0.1144\n",
            "Epoch 11/15\n",
            "\u001b[1m164/164\u001b[0m \u001b[32m━━━━━━━━━━━━━━━━━━━━\u001b[0m\u001b[37m\u001b[0m \u001b[1m0s\u001b[0m 2s/step - accuracy: 0.9240 - loss: 0.1956\n",
            "Epoch 11: saving model to /content/drive/MyDrive/TEfficientNetV2B0_checkpoint.h5\n"
          ]
        },
        {
          "name": "stderr",
          "output_type": "stream",
          "text": [
            "WARNING:absl:You are saving your model as an HDF5 file via `model.save()` or `keras.saving.save_model(model)`. This file format is considered legacy. We recommend using instead the native Keras format, e.g. `model.save('my_model.keras')` or `keras.saving.save_model(model, 'my_model.keras')`. \n"
          ]
        },
        {
          "name": "stdout",
          "output_type": "stream",
          "text": [
            "\b\b\b\b\b\b\b\b\b\b\b\b\b\b\b\b\b\b\b\b\b\b\b\b\b\b\b\b\b\b\b\b\b\b\b\b\b\b\b\b\b\b\b\b\b\b\b\b\b\b\b\b\b\b\b\b\b\b\b\b\b\b\b\b\b\b\b\b\b\b\b\b\b\r\u001b[1m164/164\u001b[0m \u001b[32m━━━━━━━━━━━━━━━━━━━━\u001b[0m\u001b[37m\u001b[0m \u001b[1m447s\u001b[0m 2s/step - accuracy: 0.9240 - loss: 0.1955 - val_accuracy: 0.9607 - val_loss: 0.1129\n",
            "Epoch 12/15\n",
            "\u001b[1m164/164\u001b[0m \u001b[32m━━━━━━━━━━━━━━━━━━━━\u001b[0m\u001b[37m\u001b[0m \u001b[1m0s\u001b[0m 2s/step - accuracy: 0.9278 - loss: 0.1784\n",
            "Epoch 12: saving model to /content/drive/MyDrive/TEfficientNetV2B0_checkpoint.h5\n"
          ]
        },
        {
          "name": "stderr",
          "output_type": "stream",
          "text": [
            "WARNING:absl:You are saving your model as an HDF5 file via `model.save()` or `keras.saving.save_model(model)`. This file format is considered legacy. We recommend using instead the native Keras format, e.g. `model.save('my_model.keras')` or `keras.saving.save_model(model, 'my_model.keras')`. \n"
          ]
        },
        {
          "name": "stdout",
          "output_type": "stream",
          "text": [
            "\b\b\b\b\b\b\b\b\b\b\b\b\b\b\b\b\b\b\b\b\b\b\b\b\b\b\b\b\b\b\b\b\b\b\b\b\b\b\b\b\b\b\b\b\b\b\b\b\b\b\b\b\b\b\b\b\b\b\b\b\b\b\b\b\b\b\b\b\b\b\b\b\b\r\u001b[1m164/164\u001b[0m \u001b[32m━━━━━━━━━━━━━━━━━━━━\u001b[0m\u001b[37m\u001b[0m \u001b[1m446s\u001b[0m 2s/step - accuracy: 0.9278 - loss: 0.1784 - val_accuracy: 0.9614 - val_loss: 0.1100\n",
            "Epoch 13/15\n",
            "\u001b[1m164/164\u001b[0m \u001b[32m━━━━━━━━━━━━━━━━━━━━\u001b[0m\u001b[37m\u001b[0m \u001b[1m0s\u001b[0m 2s/step - accuracy: 0.9309 - loss: 0.1722\n",
            "Epoch 13: saving model to /content/drive/MyDrive/TEfficientNetV2B0_checkpoint.h5\n"
          ]
        },
        {
          "name": "stderr",
          "output_type": "stream",
          "text": [
            "WARNING:absl:You are saving your model as an HDF5 file via `model.save()` or `keras.saving.save_model(model)`. This file format is considered legacy. We recommend using instead the native Keras format, e.g. `model.save('my_model.keras')` or `keras.saving.save_model(model, 'my_model.keras')`. \n"
          ]
        },
        {
          "name": "stdout",
          "output_type": "stream",
          "text": [
            "\b\b\b\b\b\b\b\b\b\b\b\b\b\b\b\b\b\b\b\b\b\b\b\b\b\b\b\b\b\b\b\b\b\b\b\b\b\b\b\b\b\b\b\b\b\b\b\b\b\b\b\b\b\b\b\b\b\b\b\b\b\b\b\b\b\b\b\b\b\b\b\b\b\r\u001b[1m164/164\u001b[0m \u001b[32m━━━━━━━━━━━━━━━━━━━━\u001b[0m\u001b[37m\u001b[0m \u001b[1m433s\u001b[0m 2s/step - accuracy: 0.9309 - loss: 0.1722 - val_accuracy: 0.9614 - val_loss: 0.1080\n",
            "Epoch 14/15\n",
            "\u001b[1m164/164\u001b[0m \u001b[32m━━━━━━━━━━━━━━━━━━━━\u001b[0m\u001b[37m\u001b[0m \u001b[1m0s\u001b[0m 2s/step - accuracy: 0.9332 - loss: 0.1679\n",
            "Epoch 14: saving model to /content/drive/MyDrive/TEfficientNetV2B0_checkpoint.h5\n"
          ]
        },
        {
          "name": "stderr",
          "output_type": "stream",
          "text": [
            "WARNING:absl:You are saving your model as an HDF5 file via `model.save()` or `keras.saving.save_model(model)`. This file format is considered legacy. We recommend using instead the native Keras format, e.g. `model.save('my_model.keras')` or `keras.saving.save_model(model, 'my_model.keras')`. \n"
          ]
        },
        {
          "name": "stdout",
          "output_type": "stream",
          "text": [
            "\b\b\b\b\b\b\b\b\b\b\b\b\b\b\b\b\b\b\b\b\b\b\b\b\b\b\b\b\b\b\b\b\b\b\b\b\b\b\b\b\b\b\b\b\b\b\b\b\b\b\b\b\b\b\b\b\b\b\b\b\b\b\b\b\b\b\b\b\b\b\b\b\b\r\u001b[1m164/164\u001b[0m \u001b[32m━━━━━━━━━━━━━━━━━━━━\u001b[0m\u001b[37m\u001b[0m \u001b[1m397s\u001b[0m 2s/step - accuracy: 0.9332 - loss: 0.1679 - val_accuracy: 0.9543 - val_loss: 0.1248\n",
            "Epoch 15/15\n",
            "\u001b[1m164/164\u001b[0m \u001b[32m━━━━━━━━━━━━━━━━━━━━\u001b[0m\u001b[37m\u001b[0m \u001b[1m0s\u001b[0m 2s/step - accuracy: 0.9401 - loss: 0.1583\n",
            "Epoch 15: saving model to /content/drive/MyDrive/TEfficientNetV2B0_checkpoint.h5\n"
          ]
        },
        {
          "name": "stderr",
          "output_type": "stream",
          "text": [
            "WARNING:absl:You are saving your model as an HDF5 file via `model.save()` or `keras.saving.save_model(model)`. This file format is considered legacy. We recommend using instead the native Keras format, e.g. `model.save('my_model.keras')` or `keras.saving.save_model(model, 'my_model.keras')`. \n"
          ]
        },
        {
          "name": "stdout",
          "output_type": "stream",
          "text": [
            "\b\b\b\b\b\b\b\b\b\b\b\b\b\b\b\b\b\b\b\b\b\b\b\b\b\b\b\b\b\b\b\b\b\b\b\b\b\b\b\b\b\b\b\b\b\b\b\b\b\b\b\b\b\b\b\b\b\b\b\b\b\b\b\b\b\b\b\b\b\b\b\b\b\r\u001b[1m164/164\u001b[0m \u001b[32m━━━━━━━━━━━━━━━━━━━━\u001b[0m\u001b[37m\u001b[0m \u001b[1m400s\u001b[0m 2s/step - accuracy: 0.9401 - loss: 0.1583 - val_accuracy: 0.9639 - val_loss: 0.1037\n"
          ]
        },
        {
          "name": "stderr",
          "output_type": "stream",
          "text": [
            "WARNING:absl:You are saving your model as an HDF5 file via `model.save()` or `keras.saving.save_model(model)`. This file format is considered legacy. We recommend using instead the native Keras format, e.g. `model.save('my_model.keras')` or `keras.saving.save_model(model, 'my_model.keras')`. \n"
          ]
        },
        {
          "name": "stdout",
          "output_type": "stream",
          "text": [
            "✅ Final model saved: /content/drive/MyDrive/TEfficientNetV2B0_final.h5\n"
          ]
        }
      ],
      "source": [
        "import os\n",
        "import pickle\n",
        "import pandas as pd\n",
        "from tensorflow.keras.applications import EfficientNetV2B0\n",
        "from tensorflow.keras.applications.efficientnet_v2 import preprocess_input as efficientnet_preprocess\n",
        "from tensorflow.keras.models import Model, load_model\n",
        "from tensorflow.keras.layers import GlobalAveragePooling2D, Dropout, Dense\n",
        "from tensorflow.keras.preprocessing.image import ImageDataGenerator\n",
        "from tensorflow.keras.optimizers import Adam\n",
        "from tensorflow.keras.callbacks import ModelCheckpoint, CSVLogger\n",
        "\n",
        "# ------------------ CONFIG ------------------ #\n",
        "base_path = '/content/drive/MyDrive/Medical_Data/archive/chest_xray/chest_xray_split'\n",
        "checkpoint_path = '/content/drive/MyDrive/TEfficientNetV2B0_checkpoint.h5'\n",
        "final_model_path = '/content/drive/MyDrive/TEfficientNetV2B0_final.h5'\n",
        "history_path = '/content/drive/MyDrive/TEfficientNetV2B0_history.pkl'\n",
        "csv_log_path = '/content/drive/MyDrive/TEfficientNetV2B0_training_log.csv'\n",
        "\n",
        "epochs = 15\n",
        "batch_size = 32\n",
        "input_shape = (224, 224, 3)\n",
        "\n",
        "# ------------- DYNAMIC EPOCH RESUME ---------------- #\n",
        "start_epoch = 0\n",
        "if os.path.exists(csv_log_path):\n",
        "    try:\n",
        "        df = pd.read_csv(csv_log_path)\n",
        "        start_epoch = int(df['epoch'].iloc[-1]) + 1\n",
        "        print(f\"🔁 Resuming from epoch {start_epoch}\")\n",
        "    except Exception as e:\n",
        "        print(f\"⚠️ Could not read CSV log: {e}\")\n",
        "\n",
        "# --------------- DATASET ------------------- #\n",
        "train_datagen = ImageDataGenerator(\n",
        "    preprocessing_function=efficientnet_preprocess,\n",
        "    rotation_range=15,\n",
        "    zoom_range=0.1,\n",
        "    width_shift_range=0.1,\n",
        "    height_shift_range=0.1,\n",
        "    horizontal_flip=True\n",
        ")\n",
        "\n",
        "val_test_datagen = ImageDataGenerator(preprocessing_function=efficientnet_preprocess)\n",
        "\n",
        "train_generator = train_datagen.flow_from_directory(\n",
        "    os.path.join(base_path, 'train'),\n",
        "    target_size=input_shape[:2],\n",
        "    batch_size=batch_size,\n",
        "    class_mode='binary'\n",
        ")\n",
        "\n",
        "val_generator = val_test_datagen.flow_from_directory(\n",
        "    os.path.join(base_path, 'val'),\n",
        "    target_size=input_shape[:2],\n",
        "    batch_size=batch_size,\n",
        "    class_mode='binary'\n",
        ")\n",
        "\n",
        "# ------------- LOAD OR CREATE MODEL -------------- #\n",
        "if os.path.exists(checkpoint_path):\n",
        "    print(\"📦 Loading model from checkpoint...\")\n",
        "    model = load_model(checkpoint_path)\n",
        "\n",
        "    # ✅ Recompile to fix training error\n",
        "    model.compile(optimizer=Adam(1e-4), loss='binary_crossentropy', metrics=['accuracy'])\n",
        "else:\n",
        "    print(\"🛠 Building new model...\")\n",
        "    base_model = EfficientNetV2B0(weights='imagenet', include_top=False, input_shape=input_shape)\n",
        "    base_model.trainable = False  # Freeze base model\n",
        "\n",
        "    x = GlobalAveragePooling2D()(base_model.output)\n",
        "    x = Dropout(0.5)(x)\n",
        "    x = Dense(128, activation='relu')(x)\n",
        "    x = Dropout(0.3)(x)\n",
        "    output = Dense(1, activation='sigmoid')(x)\n",
        "\n",
        "    model = Model(inputs=base_model.input, outputs=output)\n",
        "    model.compile(optimizer=Adam(1e-4), loss='binary_crossentropy', metrics=['accuracy'])\n",
        "\n",
        "# ------------- CALLBACKS ----------------- #\n",
        "checkpoint_callback = ModelCheckpoint(\n",
        "    filepath=checkpoint_path,\n",
        "    save_best_only=False,\n",
        "    save_weights_only=False,\n",
        "    save_freq='epoch',\n",
        "    verbose=1\n",
        ")\n",
        "\n",
        "csv_logger = CSVLogger(csv_log_path, append=True)\n",
        "\n",
        "# ------------- TRAIN --------------------- #\n",
        "history = model.fit(\n",
        "    train_generator,\n",
        "    validation_data=val_generator,\n",
        "    initial_epoch=start_epoch,\n",
        "    epochs=epochs,\n",
        "    callbacks=[checkpoint_callback, csv_logger]\n",
        ")\n",
        "\n",
        "# ------------- SAVE HISTORY -------------- #\n",
        "with open(history_path, 'wb') as f:\n",
        "    pickle.dump(history.history, f)\n",
        "\n",
        "# ------------- FINAL MODEL SAVE ---------- #\n",
        "model.save(final_model_path)\n",
        "print(\"✅ Final model saved:\", final_model_path)\n"
      ]
    },
    {
      "cell_type": "code",
      "execution_count": 3,
      "metadata": {
        "colab": {
          "base_uri": "https://localhost:8080/"
        },
        "id": "oemru3qPsYwS",
        "outputId": "9d3fa384-e0c3-418d-e723-30617cc719ef"
      },
      "outputs": [
        {
          "name": "stdout",
          "output_type": "stream",
          "text": [
            "✅ Final Training Accuracy: 93.76%\n",
            "✅ Final Validation Accuracy: 96.39%\n"
          ]
        }
      ],
      "source": [
        "import pickle\n",
        "\n",
        "# ✅ Load training history for EfficientNetV2B0\n",
        "with open('/content/drive/MyDrive/TEfficientNetV2B0_history.pkl', 'rb') as f:\n",
        "    history = pickle.load(f)\n",
        "\n",
        "# ✅ Extract final epoch's training and validation accuracy\n",
        "final_train_acc = history['accuracy'][-1]\n",
        "final_val_acc = history['val_accuracy'][-1]\n",
        "\n",
        "print(f\"✅ Final Training Accuracy: {final_train_acc * 100:.2f}%\")\n",
        "print(f\"✅ Final Validation Accuracy: {final_val_acc * 100:.2f}%\")\n"
      ]
    },
    {
      "cell_type": "code",
      "execution_count": 4,
      "metadata": {
        "colab": {
          "base_uri": "https://localhost:8080/",
          "height": 468
        },
        "id": "otem3tdVsapA",
        "outputId": "c9d82059-bf40-4b6b-fcd8-50302e21690e"
      },
      "outputs": [
        {
          "data": {
            "image/png": "[encoded data removed]",
            "text/plain": [
              "<Figure size 800x500 with 1 Axes>"
            ]
          },
          "metadata": {},
          "output_type": "display_data"
        }
      ],
      "source": [
        "import matplotlib.pyplot as plt\n",
        "import pickle\n",
        "\n",
        "# Load history\n",
        "with open('/content/drive/MyDrive/TEfficientNetV2B0_history.pkl', 'rb') as f:\n",
        "    history = pickle.load(f)\n",
        "\n",
        "# Accuracy plot\n",
        "plt.figure(figsize=(8, 5))\n",
        "plt.plot(history['accuracy'], label='Train Accuracy')\n",
        "plt.plot(history['val_accuracy'], label='Validation Accuracy')\n",
        "plt.title('Model Accuracy')        # Updated title\n",
        "plt.xlabel('')                     # No x-axis label\n",
        "plt.ylabel('Accuracy')\n",
        "plt.legend()\n",
        "plt.grid(True)\n",
        "plt.show()\n"
      ]
    },
    {
      "cell_type": "code",
      "execution_count": 5,
      "metadata": {
        "colab": {
          "base_uri": "https://localhost:8080/",
          "height": 468
        },
        "id": "spsupQa9ssf2",
        "outputId": "6f980677-be8a-444e-c66b-a31ac2829a48"
      },
      "outputs": [
        {
          "data": {
            "image/png": "[encoded data removed]",
            "text/plain": [
              "<Figure size 800x500 with 1 Axes>"
            ]
          },
          "metadata": {},
          "output_type": "display_data"
        }
      ],
      "source": [
        "import matplotlib.pyplot as plt\n",
        "import pickle\n",
        "\n",
        "# Load history\n",
        "with open('/content/drive/MyDrive/TEfficientNetV2B0_history.pkl', 'rb') as f:\n",
        "    history = pickle.load(f)\n",
        "\n",
        "# Loss plot\n",
        "plt.figure(figsize=(8, 5))\n",
        "plt.plot(history['loss'], label='Train Loss')\n",
        "plt.plot(history['val_loss'], label='Validation Loss')\n",
        "plt.title('Model Loss')        # Title for loss\n",
        "plt.xlabel('')                 # No x-axis label\n",
        "plt.ylabel('Loss')\n",
        "plt.legend()\n",
        "plt.grid(True)\n",
        "plt.show()\n"
      ]
    },
    {
      "cell_type": "code",
      "execution_count": 10,
      "metadata": {
        "colab": {
          "base_uri": "https://localhost:8080/"
        },
        "id": "fFfAjhkAsxVM",
        "outputId": "34dc84f9-38fd-49b6-978d-98eb6d0d5776"
      },
      "outputs": [
        {
          "name": "stderr",
          "output_type": "stream",
          "text": [
            "WARNING:absl:Compiled the loaded model, but the compiled metrics have yet to be built. `model.compile_metrics` will be empty until you train or evaluate the model.\n"
          ]
        },
        {
          "name": "stdout",
          "output_type": "stream",
          "text": [
            "Found 1556 images belonging to 2 classes.\n"
          ]
        },
        {
          "name": "stderr",
          "output_type": "stream",
          "text": [
            "/usr/local/lib/python3.11/dist-packages/keras/src/trainers/data_adapters/py_dataset_adapter.py:121: UserWarning: Your `PyDataset` class should call `super().__init__(**kwargs)` in its constructor. `**kwargs` can include `workers`, `use_multiprocessing`, `max_queue_size`. Do not pass these arguments to `fit()`, as they will be ignored.\n",
            "  self._warn_if_super_not_called()\n"
          ]
        },
        {
          "name": "stdout",
          "output_type": "stream",
          "text": [
            "\u001b[1m49/49\u001b[0m \u001b[32m━━━━━━━━━━━━━━━━━━━━\u001b[0m\u001b[37m\u001b[0m \u001b[1m504s\u001b[0m 10s/step - accuracy: 0.9445 - loss: 0.1550\n",
            "✅ Test Accuracy: 95.82%\n",
            "📉 Test Loss: 0.1151\n"
          ]
        }
      ],
      "source": [
        "import os\n",
        "from tensorflow.keras.preprocessing.image import ImageDataGenerator\n",
        "from tensorflow.keras.models import load_model\n",
        "from tensorflow.keras.applications.efficientnet_v2 import preprocess_input as efficientnet_preprocess\n",
        "\n",
        "# -------- CONFIG -------- #\n",
        "base_path = '/content/drive/MyDrive/Medical_Data/archive/chest_xray/chest_xray_split'\n",
        "final_model_path = '/content/drive/MyDrive/TEfficientNetV2B0_final.h5'\n",
        "batch_size = 32\n",
        "input_shape = (224, 224, 3)\n",
        "\n",
        "# -------- LOAD MODEL -------- #\n",
        "model = load_model(final_model_path)\n",
        "\n",
        "# -------- DATASET PREP -------- #\n",
        "val_test_datagen = ImageDataGenerator(preprocessing_function=efficientnet_preprocess)\n",
        "\n",
        "test_generator = val_test_datagen.flow_from_directory(\n",
        "    os.path.join(base_path, 'test'),\n",
        "    target_size=input_shape[:2],\n",
        "    batch_size=batch_size,\n",
        "    class_mode='binary',\n",
        "    shuffle=False\n",
        ")\n",
        "\n",
        "# -------- EVALUATE -------- #\n",
        "test_loss, test_accuracy = model.evaluate(test_generator)\n",
        "print(f\"✅ Test Accuracy: {test_accuracy * 100:.2f}%\")\n",
        "print(f\"📉 Test Loss: {test_loss:.4f}\")\n"
      ]
    },
    {
      "cell_type": "code",
      "execution_count": 11,
      "metadata": {
        "colab": {
          "base_uri": "https://localhost:8080/",
          "height": 698
        },
        "id": "jvxcMUfOt0Pp",
        "outputId": "2e3e9bcf-d259-4a90-e6a1-2cf6da9f508e"
      },
      "outputs": [
        {
          "name": "stdout",
          "output_type": "stream",
          "text": [
            "\u001b[1m49/49\u001b[0m \u001b[32m━━━━━━━━━━━━━━━━━━━━\u001b[0m\u001b[37m\u001b[0m \u001b[1m15s\u001b[0m 220ms/step\n",
            "📊 Overall Model Performance (Threshold = 0.50):\n",
            "\n",
            "✅ Accuracy :  0.9582\n",
            "🎯 Precision: 0.9728\n",
            "🔁 Recall   : 0.9702\n",
            "📈 F1 Score : 0.9715\n"
          ]
        },
        {
          "data": {
            "image/png": "[encoded data removed]",
            "text/plain": [
              "<Figure size 640x480 with 2 Axes>"
            ]
          },
          "metadata": {},
          "output_type": "display_data"
        },
        {
          "name": "stdout",
          "output_type": "stream",
          "text": [
            "\n",
            "🧮 Confusion Matrix Breakdown:\n",
            "✅ True Positives (TP): 1107\n",
            "✅ True Negatives (TN): 384\n",
            "❌ False Positives (FP): 31\n",
            "❌ False Negatives (FN): 34\n"
          ]
        }
      ],
      "source": [
        "import numpy as np\n",
        "import matplotlib.pyplot as plt\n",
        "from sklearn.metrics import accuracy_score, precision_score, recall_score, f1_score, confusion_matrix, ConfusionMatrixDisplay\n",
        "\n",
        "# -------- Step 1: True labels from generator -------- #\n",
        "y_true = test_generator.classes\n",
        "\n",
        "# -------- Step 2: Model predictions -------- #\n",
        "y_pred_probs = model.predict(test_generator, verbose=1)\n",
        "\n",
        "# -------- Step 3: Apply threshold (e.g. 0.5) -------- #\n",
        "threshold = 0.50\n",
        "y_pred = (y_pred_probs > threshold).astype(int).reshape(-1)\n",
        "\n",
        "# -------- Step 4: Metrics -------- #\n",
        "overall_accuracy  = accuracy_score(y_true, y_pred)\n",
        "overall_precision = precision_score(y_true, y_pred)\n",
        "overall_recall    = recall_score(y_true, y_pred)\n",
        "overall_f1        = f1_score(y_true, y_pred)\n",
        "\n",
        "# -------- Step 5: Print metrics -------- #\n",
        "print(\"📊 Overall Model Performance (Threshold = 0.50):\\n\")\n",
        "print(f\"✅ Accuracy :  {overall_accuracy:.4f}\")\n",
        "print(f\"🎯 Precision: {overall_precision:.4f}\")\n",
        "print(f\"🔁 Recall   : {overall_recall:.4f}\")\n",
        "print(f\"📈 F1 Score : {overall_f1:.4f}\")\n",
        "\n",
        "# -------- Step 6: Confusion Matrix -------- #\n",
        "cm = confusion_matrix(y_true, y_pred)\n",
        "labels = list(test_generator.class_indices.keys())  # e.g. ['NORMAL', 'PNEUMONIA']\n",
        "\n",
        "# -------- Step 7: Plot Confusion Matrix -------- #\n",
        "disp = ConfusionMatrixDisplay(confusion_matrix=cm, display_labels=labels)\n",
        "disp.plot(cmap=plt.cm.Blues)\n",
        "plt.title(\"Confusion Matrix (Threshold = 0.50)\")\n",
        "plt.grid(False)\n",
        "plt.show()\n",
        "\n",
        "# -------- Step 8: TP, TN, FP, FN Breakdown -------- #\n",
        "tn, fp, fn, tp = cm.ravel()\n",
        "\n",
        "print(\"\\n🧮 Confusion Matrix Breakdown:\")\n",
        "print(f\"✅ True Positives (TP): {tp}\")\n",
        "print(f\"✅ True Negatives (TN): {tn}\")\n",
        "print(f\"❌ False Positives (FP): {fp}\")\n",
        "print(f\"❌ False Negatives (FN): {fn}\")\n"
      ]
    }
  ],
  "metadata": {
    "accelerator": "GPU",
    "colab": {
      "gpuType": "T4",
      "provenance": []
    },
    "kernelspec": {
      "display_name": "Python 3",
      "name": "python3"
    },
    "language_info": {
      "name": "python"
    }
  },
  "nbformat": 4,
  "nbformat_minor": 0
}
